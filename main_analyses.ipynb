{
 "cells": [
  {
   "cell_type": "code",
   "execution_count": 1,
   "metadata": {},
   "outputs": [],
   "source": [
    "import pandas as pd\n",
    "import pingouin as pg"
   ]
  },
  {
   "cell_type": "code",
   "execution_count": 2,
   "metadata": {},
   "outputs": [],
   "source": [
    "# importing custom functions from this repository\n",
    "from helper_functions import *"
   ]
  },
  {
   "cell_type": "markdown",
   "metadata": {},
   "source": [
    "### These analyses are based on the code provided by Cooper and Ritchey (2022), which can be found here: https://github.com/memobc/paper-vividness-features\n",
    "\n",
    "### They have been extended to allow for an additional manipulation of an age group (both young and older adults have been tested) and an additional dependent variable - a confidence rating"
   ]
  },
  {
   "cell_type": "markdown",
   "metadata": {},
   "source": [
    "### Analyses\n",
    "\n",
    "Each participant’s performance was evaluated in eight ways: vividness rating (continuous between 1 and 6), confidence rating (continuous between 1 and 6), and gist as well as detail memory for place, object and person (1 - correct or 0 - incorrect).  \n",
    "\n",
    "First, we removed participants whose performance on the experiment met our preregistered exclusion criteria (7 participants removed).\n",
    "\n",
    "Next, we assessed the effect of age on memory performance. We compared memory performance on gist and memory performance on detail between the two age groups using Man-Whitney U-test. \n",
    "\n",
    "The main analyses of interest focused on the trial-wise relationship between subjective ratings of confidence and vividness and memory attributes. This was done in two ways: using within-participant correlations between subjective memory ratings and each of the memory attributes, and predictive linear models exploring which memory attributes predict subjective memory rating. When running group analyses, participant correlations were Fisher-z transformed across the two ageing groups. One sample and two sample Bonferroni corrected t-tests were run to test whether the correlations were different from 0 and whether there were between-group differences associated with ageing. To assess the relationship between subjective memory ratings within and across age groups, we conducted Spearman correlations and Man-Whitney U-tests to check for differences in vividness and confidence ratings.  \n",
    "\n",
    "We also assessed whether the relationship between subjective memory experience, as measured by confidence and vividness ratings, is associated with overall memory performance. Each event consisted of 6 memory attribute evaluations. The correlation was calculated between the total number of memory attributes remembered (0-6) and the two subjective memory ratings, separately. Following this, gist and detail memory attributes correlations were calculated separately for each type of memory content with both subjective measures, separately. As in the original study, we marked the detail memory trials as incorrect if participants did not respond correctly to the corresponding gist question. This is because if a participant did not remember the gist of the event correctly, the detailed information tested on correct original event elements could not have contributed to the subjectively experienced vividness. To assess the differential effect of specificity (gist versus detail) and content (person, object or place) on the subjective memory ratings across the two age groups, we conducted an ageing (between subjects, 2 levels: older adults, young adults) x specificity (within subjects, 2 levels: gist, detail) x content (within subjects, 3 levels: object, person, place) mixed-effects ANOVAs, separately for confidence and vividness. The dependent variable was the Fisher transformed correlation coefficient between subjective memory rating and memory performance on each of the memory attributes.  \n",
    "\n",
    "Additionally, we used predictive linear regression model tested with repeated cross validation to test whether trial-wise memory attributes can predict subjective ratings of left-out events within each group, and which combination of memory attributes explains the most variance in subjective memory ratings within each group. This was performed separately for young and older adults, and separately for ratings of vividness and confidence. Full models included all six memory attributes. On each iteration, the predictor explaining the lowest amount of variance in the model was removed. The best model was defined as the model with the highest out-of-sample R-squared value.  \n",
    "\n",
    "Given the reported substantial individual variability in the findings of Cooper and Ritchey (2022), we also explored individual differences in the relationship between the subjective ratings of confidence and vividness and memory attributes. First, we conducted correlations between mean subjective memory ratings (separately for confidence and vividness) and each of the memory attributes, as well as scores on the two questionnaires - the episodic Survey of Autobiographical Memory and the Vividness of Visual Imagery Questionnaire. Second, we performed K-Means clustering to group participants based on the similarity, defined as Euclidean distance, of the correlations between all memory attributes and subjective memory measures. We identified the elbow of the curve of inertia values, defined as the sum of squared distances of each participant to their closest cluster centre, calculated using between one and ten clusters. For each k iteration, K-Means was run 500 times, returning the cluster assignments with the lowest inertia. K-Means clustering was run separately for confidence and vividness, separately for older and young adults.  "
   ]
  },
  {
   "cell_type": "markdown",
   "metadata": {},
   "source": [
    "# List of content\n",
    "## 1. Data checks\n",
    "#### *1.1 Checking exclusion criteria*\n",
    "#### *1.2 Encoding time checks*\n",
    "#### *1.3 Memory Vividness and Confidence checks*\n",
    "#### *1.4 Gist and Detail Memory performance checks*\n",
    "\n",
    "## 2. Subjective and objective memory score correlations\n",
    "#### *2.1 Correlation between total gist and total detail performance (collapsed across content conditions of place/person/object) and subjective ratings*\n",
    "#### *2.2 Setting detail performance to be conditional upon gist performance*\n",
    "#### *2.3 Correlation between total number of attributes remembered (collapsed across specificity conditions of gist/detail and content conditions of place/person/object) and subjective ratings*\n",
    "#### *2.4 Correlation between the correlation coefficients of vividness and total number of remembered attributes, and confidence and total number of remembered attributes*\n",
    "\n",
    "## 3. Content x Specificity x Age\n",
    "#### *3.1 The effect of content x specificity x age on vividness ratings*\n",
    "#### *3.2 The effect of content x specificity x age on confidence ratings*\n",
    "\n",
    "## 4. Mixed-design 3x2x2 ANOVA\n",
    "\n",
    "## 5. Predictive model\n",
    "#### 5.1 Vividness\n",
    "#### 5.2 Confidence\n"
   ]
  },
  {
   "cell_type": "markdown",
   "metadata": {},
   "source": [
    "# 1. Data checks"
   ]
  },
  {
   "cell_type": "markdown",
   "metadata": {},
   "source": [
    "## 1.1 Checking exclusion criteria"
   ]
  },
  {
   "cell_type": "code",
   "execution_count": 3,
   "metadata": {},
   "outputs": [
    {
     "data": {
      "text/html": [
       "<div>\n",
       "<style scoped>\n",
       "    .dataframe tbody tr th:only-of-type {\n",
       "        vertical-align: middle;\n",
       "    }\n",
       "\n",
       "    .dataframe tbody tr th {\n",
       "        vertical-align: top;\n",
       "    }\n",
       "\n",
       "    .dataframe thead th {\n",
       "        text-align: right;\n",
       "    }\n",
       "</style>\n",
       "<table border=\"1\" class=\"dataframe\">\n",
       "  <thead>\n",
       "    <tr style=\"text-align: right;\">\n",
       "      <th></th>\n",
       "      <th>participant</th>\n",
       "      <th>event_id</th>\n",
       "      <th>encoding.thisN</th>\n",
       "      <th>theme</th>\n",
       "      <th>object_label</th>\n",
       "      <th>person_label</th>\n",
       "      <th>place_label</th>\n",
       "      <th>resp_encSpace.rt</th>\n",
       "      <th>retrieval.thisN</th>\n",
       "      <th>resp_ret_vividness.keys</th>\n",
       "      <th>...</th>\n",
       "      <th>sun_4</th>\n",
       "      <th>shop_1</th>\n",
       "      <th>shop_2</th>\n",
       "      <th>shop_3</th>\n",
       "      <th>shop_4</th>\n",
       "      <th>scene_1</th>\n",
       "      <th>scene_2</th>\n",
       "      <th>scene_3</th>\n",
       "      <th>scene_4</th>\n",
       "      <th>age</th>\n",
       "    </tr>\n",
       "  </thead>\n",
       "  <tbody>\n",
       "    <tr>\n",
       "      <th>0</th>\n",
       "      <td>100</td>\n",
       "      <td>17</td>\n",
       "      <td>1</td>\n",
       "      <td>Summer</td>\n",
       "      <td>Puppy</td>\n",
       "      <td>Sandra</td>\n",
       "      <td>Circus</td>\n",
       "      <td>15.0042</td>\n",
       "      <td>9</td>\n",
       "      <td>1.703704</td>\n",
       "      <td>...</td>\n",
       "      <td>5</td>\n",
       "      <td>5</td>\n",
       "      <td>3</td>\n",
       "      <td>4</td>\n",
       "      <td>2</td>\n",
       "      <td>5</td>\n",
       "      <td>4</td>\n",
       "      <td>5</td>\n",
       "      <td>4</td>\n",
       "      <td>0</td>\n",
       "    </tr>\n",
       "    <tr>\n",
       "      <th>1</th>\n",
       "      <td>100</td>\n",
       "      <td>11</td>\n",
       "      <td>2</td>\n",
       "      <td>Games</td>\n",
       "      <td>Binoculars</td>\n",
       "      <td>Harrison</td>\n",
       "      <td>Lake</td>\n",
       "      <td>12.2719</td>\n",
       "      <td>6</td>\n",
       "      <td>5.805556</td>\n",
       "      <td>...</td>\n",
       "      <td>5</td>\n",
       "      <td>5</td>\n",
       "      <td>3</td>\n",
       "      <td>4</td>\n",
       "      <td>2</td>\n",
       "      <td>5</td>\n",
       "      <td>4</td>\n",
       "      <td>5</td>\n",
       "      <td>4</td>\n",
       "      <td>0</td>\n",
       "    </tr>\n",
       "    <tr>\n",
       "      <th>2</th>\n",
       "      <td>100</td>\n",
       "      <td>18</td>\n",
       "      <td>3</td>\n",
       "      <td>DIY</td>\n",
       "      <td>Chair</td>\n",
       "      <td>Beyonce</td>\n",
       "      <td>Winecellar</td>\n",
       "      <td>18.8351</td>\n",
       "      <td>15</td>\n",
       "      <td>5.888889</td>\n",
       "      <td>...</td>\n",
       "      <td>5</td>\n",
       "      <td>5</td>\n",
       "      <td>3</td>\n",
       "      <td>4</td>\n",
       "      <td>2</td>\n",
       "      <td>5</td>\n",
       "      <td>4</td>\n",
       "      <td>5</td>\n",
       "      <td>4</td>\n",
       "      <td>0</td>\n",
       "    </tr>\n",
       "    <tr>\n",
       "      <th>3</th>\n",
       "      <td>100</td>\n",
       "      <td>4</td>\n",
       "      <td>4</td>\n",
       "      <td>Exercise</td>\n",
       "      <td>Beachball</td>\n",
       "      <td>Will</td>\n",
       "      <td>Casino</td>\n",
       "      <td>10.3913</td>\n",
       "      <td>23</td>\n",
       "      <td>2.462963</td>\n",
       "      <td>...</td>\n",
       "      <td>5</td>\n",
       "      <td>5</td>\n",
       "      <td>3</td>\n",
       "      <td>4</td>\n",
       "      <td>2</td>\n",
       "      <td>5</td>\n",
       "      <td>4</td>\n",
       "      <td>5</td>\n",
       "      <td>4</td>\n",
       "      <td>0</td>\n",
       "    </tr>\n",
       "    <tr>\n",
       "      <th>4</th>\n",
       "      <td>100</td>\n",
       "      <td>10</td>\n",
       "      <td>5</td>\n",
       "      <td>Work</td>\n",
       "      <td>Easel</td>\n",
       "      <td>Sean</td>\n",
       "      <td>Aquarium</td>\n",
       "      <td>16.0599</td>\n",
       "      <td>18</td>\n",
       "      <td>5.370371</td>\n",
       "      <td>...</td>\n",
       "      <td>5</td>\n",
       "      <td>5</td>\n",
       "      <td>3</td>\n",
       "      <td>4</td>\n",
       "      <td>2</td>\n",
       "      <td>5</td>\n",
       "      <td>4</td>\n",
       "      <td>5</td>\n",
       "      <td>4</td>\n",
       "      <td>0</td>\n",
       "    </tr>\n",
       "  </tbody>\n",
       "</table>\n",
       "<p>5 rows × 80 columns</p>\n",
       "</div>"
      ],
      "text/plain": [
       "   participant  event_id  encoding.thisN     theme object_label person_label  \\\n",
       "0          100        17               1    Summer        Puppy       Sandra   \n",
       "1          100        11               2     Games   Binoculars     Harrison   \n",
       "2          100        18               3       DIY        Chair      Beyonce   \n",
       "3          100         4               4  Exercise    Beachball         Will   \n",
       "4          100        10               5      Work        Easel         Sean   \n",
       "\n",
       "  place_label  resp_encSpace.rt  retrieval.thisN  resp_ret_vividness.keys  \\\n",
       "0      Circus           15.0042                9                 1.703704   \n",
       "1        Lake           12.2719                6                 5.805556   \n",
       "2  Winecellar           18.8351               15                 5.888889   \n",
       "3      Casino           10.3913               23                 2.462963   \n",
       "4    Aquarium           16.0599               18                 5.370371   \n",
       "\n",
       "   ...  sun_4 shop_1 shop_2 shop_3  shop_4  scene_1  scene_2  scene_3  \\\n",
       "0  ...      5      5      3      4       2        5        4        5   \n",
       "1  ...      5      5      3      4       2        5        4        5   \n",
       "2  ...      5      5      3      4       2        5        4        5   \n",
       "3  ...      5      5      3      4       2        5        4        5   \n",
       "4  ...      5      5      3      4       2        5        4        5   \n",
       "\n",
       "   scene_4  age  \n",
       "0        4    0  \n",
       "1        4    0  \n",
       "2        4    0  \n",
       "3        4    0  \n",
       "4        4    0  \n",
       "\n",
       "[5 rows x 80 columns]"
      ]
     },
     "execution_count": 3,
     "metadata": {},
     "output_type": "execute_result"
    }
   ],
   "source": [
    "df = pd.read_csv('.\\data\\data.csv')\n",
    "df.head()"
   ]
  },
  {
   "cell_type": "markdown",
   "metadata": {},
   "source": [
    "The experiment consisted of 24 trials. We're checking if all participants completed the experiment:"
   ]
  },
  {
   "cell_type": "code",
   "execution_count": 4,
   "metadata": {},
   "outputs": [
    {
     "name": "stdout",
     "output_type": "stream",
     "text": [
      "All participants have 24 trials\n"
     ]
    }
   ],
   "source": [
    "ntrials = df.groupby('participant').count()\n",
    "if any(ntrials[\"event_id\"] != 24):\n",
    "    print('Check data. Some participant have an incorrect number of trials')\n",
    "else:\n",
    "    print('All participants have 24 trials')"
   ]
  },
  {
   "cell_type": "markdown",
   "metadata": {},
   "source": [
    "We will exclude participants\n",
    "                     - whose median reaction time is less than 0.75s\n",
    "                     - who press the same key more than 75% of the time\n",
    "                     - whose gist memory performance was close to or below chance, using the threshold of 30% (chance = 25%)."
   ]
  },
  {
   "cell_type": "code",
   "execution_count": 5,
   "metadata": {},
   "outputs": [
    {
     "name": "stdout",
     "output_type": "stream",
     "text": [
      "\n",
      "Number of subjects with median RT <= .75s -- 0 out of 200 subjects\n",
      "\n",
      "Number of subjects with consistent key presses (> 75% same key) -- 0 out of 200 subjects\n",
      "\n",
      "Number of subjects with gist memory <= 30% -- 7 out of 200 subjects\n",
      "\n",
      "Removing subjects from data .... 114,115,119,124,134,152,171\n"
     ]
    }
   ],
   "source": [
    "# check data and return cleaned data and a list of subject IDs to exclude:\n",
    "df, exclude_subs = quality_check(df)"
   ]
  },
  {
   "cell_type": "code",
   "execution_count": 6,
   "metadata": {},
   "outputs": [
    {
     "name": "stdout",
     "output_type": "stream",
     "text": [
      "\n",
      "Number of older participants with detail memory <= 55% -- 13\n",
      "\n",
      "Number of younger participants with detail memory <= 55% -- 8\n",
      "\n",
      "Participants ids:  [10, 14, 15, 18, 24, 25, 32, 35, 41, 43, 82, 84, 89, 101, 113, 130, 148, 154, 166, 175, 193]\n"
     ]
    }
   ],
   "source": [
    "# we are not using detail memory as an exclusion check to avoid penalising people who rely more heavily on gist\n",
    "detail = df[['participant','age',\n",
    "                  'resp_detailmem1.corr','resp_detailmem2.corr','resp_detailmem3.corr']].melt(id_vars=['participant', 'age'])\n",
    "detail = detail.groupby(['participant']).mean().reset_index()\n",
    "\n",
    "# chance is 50%\n",
    "ps = detail.loc[detail['value'] <=.55,['participant', 'age']]\n",
    "print('\\nNumber of older participants with detail memory <= 55% --',len(ps.loc[ps['age'] == 1.0]))\n",
    "print('\\nNumber of younger participants with detail memory <= 55% --',len(ps.loc[ps['age'] == 0.0]))\n",
    "print('\\nParticipants ids: ', ps['participant'].tolist())"
   ]
  },
  {
   "cell_type": "code",
   "execution_count": 7,
   "metadata": {},
   "outputs": [
    {
     "name": "stdout",
     "output_type": "stream",
     "text": [
      "** FINAL ANALYSIS N = 193 **\n",
      "\n",
      "** Older adults N = 97 **\n",
      "\n",
      "** Young adults N = 96 **\n",
      "\n"
     ]
    }
   ],
   "source": [
    "# number of remaining participants\n",
    "print('** FINAL ANALYSIS N =', len(df['participant'].unique()), '**')\n",
    "print('\\n** Older adults N =', len(df.loc[df['age'] == 1, 'participant'].unique()), '**')\n",
    "print('\\n** Young adults N =', len(df.loc[df['age'] == 0, 'participant'].unique()), '**\\n')"
   ]
  },
  {
   "cell_type": "code",
   "execution_count": 8,
   "metadata": {},
   "outputs": [],
   "source": [
    "# save df for individual differences analysis\n",
    "df.to_csv('.\\data\\data_cleaned.csv', index=False)"
   ]
  },
  {
   "cell_type": "markdown",
   "metadata": {},
   "source": [
    "## 1.2 Encoding time checks"
   ]
  },
  {
   "cell_type": "code",
   "execution_count": 9,
   "metadata": {},
   "outputs": [],
   "source": [
    "encoding_differences = df.copy()\n",
    "encoding_differences['is_encoding_na'] = encoding_differences['resp_encSpace.rt'].isna()\n",
    "encoding_differences = encoding_differences['resp_encSpace.rt'].isnull().groupby([encoding_differences['participant'],encoding_differences['age']]).sum().astype(int).reset_index(name='count')"
   ]
  },
  {
   "cell_type": "code",
   "execution_count": 10,
   "metadata": {},
   "outputs": [
    {
     "data": {
      "text/html": [
       "<div>\n",
       "<style scoped>\n",
       "    .dataframe tbody tr th:only-of-type {\n",
       "        vertical-align: middle;\n",
       "    }\n",
       "\n",
       "    .dataframe tbody tr th {\n",
       "        vertical-align: top;\n",
       "    }\n",
       "\n",
       "    .dataframe thead th {\n",
       "        text-align: right;\n",
       "    }\n",
       "</style>\n",
       "<table border=\"1\" class=\"dataframe\">\n",
       "  <thead>\n",
       "    <tr style=\"text-align: right;\">\n",
       "      <th></th>\n",
       "      <th>Mean</th>\n",
       "      <th>SD</th>\n",
       "    </tr>\n",
       "    <tr>\n",
       "      <th>age</th>\n",
       "      <th></th>\n",
       "      <th></th>\n",
       "    </tr>\n",
       "  </thead>\n",
       "  <tbody>\n",
       "    <tr>\n",
       "      <th>0</th>\n",
       "      <td>6.937500</td>\n",
       "      <td>8.336114</td>\n",
       "    </tr>\n",
       "    <tr>\n",
       "      <th>1</th>\n",
       "      <td>17.216495</td>\n",
       "      <td>7.559799</td>\n",
       "    </tr>\n",
       "  </tbody>\n",
       "</table>\n",
       "</div>"
      ],
      "text/plain": [
       "          Mean        SD\n",
       "age                     \n",
       "0     6.937500  8.336114\n",
       "1    17.216495  7.559799"
      ]
     },
     "execution_count": 10,
     "metadata": {},
     "output_type": "execute_result"
    }
   ],
   "source": [
    "# checking whether older adults were more likely never to press spacebar after story generation\n",
    "encoding_differences.groupby('age').agg(Mean=('count', 'mean'), SD=('count', np.std))"
   ]
  },
  {
   "cell_type": "code",
   "execution_count": 11,
   "metadata": {},
   "outputs": [
    {
     "data": {
      "text/html": [
       "<div>\n",
       "<style scoped>\n",
       "    .dataframe tbody tr th:only-of-type {\n",
       "        vertical-align: middle;\n",
       "    }\n",
       "\n",
       "    .dataframe tbody tr th {\n",
       "        vertical-align: top;\n",
       "    }\n",
       "\n",
       "    .dataframe thead th {\n",
       "        text-align: right;\n",
       "    }\n",
       "</style>\n",
       "<table border=\"1\" class=\"dataframe\">\n",
       "  <thead>\n",
       "    <tr style=\"text-align: right;\">\n",
       "      <th></th>\n",
       "      <th>U-val</th>\n",
       "      <th>alternative</th>\n",
       "      <th>p-val</th>\n",
       "      <th>RBC</th>\n",
       "      <th>CLES</th>\n",
       "    </tr>\n",
       "  </thead>\n",
       "  <tbody>\n",
       "    <tr>\n",
       "      <th>MWU</th>\n",
       "      <td>7603.5</td>\n",
       "      <td>two-sided</td>\n",
       "      <td>2.357864e-14</td>\n",
       "      <td>-0.633054</td>\n",
       "      <td>0.816527</td>\n",
       "    </tr>\n",
       "  </tbody>\n",
       "</table>\n",
       "</div>"
      ],
      "text/plain": [
       "      U-val alternative         p-val       RBC      CLES\n",
       "MWU  7603.5   two-sided  2.357864e-14 -0.633054  0.816527"
      ]
     },
     "execution_count": 11,
     "metadata": {},
     "output_type": "execute_result"
    }
   ],
   "source": [
    "pg.mwu(encoding_differences.loc[encoding_differences['age'] == 1, 'count'], encoding_differences.loc[encoding_differences['age'] == 0, 'count'], alternative='two-sided')"
   ]
  },
  {
   "cell_type": "code",
   "execution_count": 12,
   "metadata": {},
   "outputs": [],
   "source": [
    "data_age = pd.DataFrame(df.groupby(['participant', 'age']).mean(numeric_only=True)['resp_encSpace.rt'])\n",
    "data_age.columns = ['mean story generation time']"
   ]
  },
  {
   "cell_type": "code",
   "execution_count": 13,
   "metadata": {},
   "outputs": [
    {
     "data": {
      "image/png": "[encoded data removed]",
      "text/plain": [
       "<Figure size 640x480 with 1 Axes>"
      ]
     },
     "metadata": {},
     "output_type": "display_data"
    }
   ],
   "source": [
    "sns.barplot(y='mean story generation time', x='age',\n",
    "            data=data_age.reset_index(),\n",
    "            alpha=.6, dodge=True, errcolor=\"k\",\n",
    "            errwidth=2, capsize=.2)\n",
    "sns.stripplot(y='mean story generation time', x='age',\n",
    "              data=data_age.reset_index(),\n",
    "              size=5, alpha=.8, zorder=0, jitter=.1)\n",
    "plt.ylabel('Mean Story Generation time', fontsize=18)\n",
    "plt.xlabel('Age')\n",
    "plt.yticks(fontsize=16)\n",
    "plt.xticks(np.arange(2), ['Young adults', 'Older adults'], fontsize=15)\n",
    "plt.grid(False)\n",
    "plt.ylim(1,20.5)\n",
    "\n",
    "plt.show()"
   ]
  },
  {
   "cell_type": "code",
   "execution_count": 14,
   "metadata": {},
   "outputs": [
    {
     "data": {
      "text/html": [
       "<div>\n",
       "<style scoped>\n",
       "    .dataframe tbody tr th:only-of-type {\n",
       "        vertical-align: middle;\n",
       "    }\n",
       "\n",
       "    .dataframe tbody tr th {\n",
       "        vertical-align: top;\n",
       "    }\n",
       "\n",
       "    .dataframe thead th {\n",
       "        text-align: right;\n",
       "    }\n",
       "</style>\n",
       "<table border=\"1\" class=\"dataframe\">\n",
       "  <thead>\n",
       "    <tr style=\"text-align: right;\">\n",
       "      <th></th>\n",
       "      <th>Mean</th>\n",
       "      <th>SD</th>\n",
       "    </tr>\n",
       "    <tr>\n",
       "      <th>age</th>\n",
       "      <th></th>\n",
       "      <th></th>\n",
       "    </tr>\n",
       "  </thead>\n",
       "  <tbody>\n",
       "    <tr>\n",
       "      <th>0</th>\n",
       "      <td>10.845169</td>\n",
       "      <td>3.365571</td>\n",
       "    </tr>\n",
       "    <tr>\n",
       "      <th>1</th>\n",
       "      <td>15.001867</td>\n",
       "      <td>2.228181</td>\n",
       "    </tr>\n",
       "  </tbody>\n",
       "</table>\n",
       "</div>"
      ],
      "text/plain": [
       "          Mean        SD\n",
       "age                     \n",
       "0    10.845169  3.365571\n",
       "1    15.001867  2.228181"
      ]
     },
     "execution_count": 14,
     "metadata": {},
     "output_type": "execute_result"
    }
   ],
   "source": [
    "enc_rt = pd.DataFrame(df.groupby(['participant','age']).mean(numeric_only=True)['resp_encSpace.rt'])\n",
    "enc_rt.groupby(['age']).agg(Mean=('resp_encSpace.rt', 'mean'),\n",
    "           SD=('resp_encSpace.rt', np.std))"
   ]
  },
  {
   "cell_type": "markdown",
   "metadata": {},
   "source": [
    "## 1.3 Memory Vividness and Confidence checks"
   ]
  },
  {
   "cell_type": "code",
   "execution_count": 15,
   "metadata": {},
   "outputs": [],
   "source": [
    "data_age = pd.DataFrame(df.groupby(['participant','age'], as_index=False)[['resp_ret_confidence.keys','resp_ret_vividness.keys']].mean())\n",
    "older_part_df, younger_part_df = [x for _, x in df.groupby(df['age'] == 0)]"
   ]
  },
  {
   "cell_type": "code",
   "execution_count": 16,
   "metadata": {},
   "outputs": [
    {
     "data": {
      "text/plain": [
       "193"
      ]
     },
     "execution_count": 16,
     "metadata": {},
     "output_type": "execute_result"
    }
   ],
   "source": [
    "len(data_age['participant'].unique())"
   ]
  },
  {
   "cell_type": "code",
   "execution_count": 17,
   "metadata": {},
   "outputs": [
    {
     "data": {
      "image/png": "[encoded data removed]",
      "text/plain": [
       "<Figure size 900x700 with 4 Axes>"
      ]
     },
     "metadata": {},
     "output_type": "display_data"
    }
   ],
   "source": [
    "# plotting older adults descriptive data:\n",
    "fig, axes = plt.subplots(2, 2, figsize=(9,7),\n",
    "                         gridspec_kw={\n",
    "                               'width_ratios': [1, 4],\n",
    "                               'wspace': 0.5,\n",
    "                                'hspace': 0.5})\n",
    "fig.suptitle('Older adults', fontsize=20)\n",
    "\n",
    "# vividness older adults\n",
    "plt.axes(axes[0,0])\n",
    "sns.barplot(y=\"resp_ret_vividness.keys\",data=data_age.loc[data_age.age == 1], alpha=.6,\n",
    "            dodge=True, errcolor=\"k\", errwidth=2, capsize=.2)\n",
    "sns.stripplot(y=\"resp_ret_vividness.keys\",data=data_age.loc[data_age.age == 1],\n",
    "              size=5, alpha=.8, zorder=0, jitter=.1)\n",
    "plt.ylabel('Mean Vividness', fontsize=18)\n",
    "plt.yticks(fontsize=16)\n",
    "plt.grid(False)\n",
    "plt.xticks([])\n",
    "plt.ylim(1,6.1)\n",
    "\n",
    "\n",
    "# confidence older adults\n",
    "plt.axes(axes[1,0])\n",
    "sns.barplot(y=\"resp_ret_confidence.keys\",data=data_age.loc[data_age.age == 1], alpha=.6,\n",
    "            dodge=True, errcolor=\"k\", errwidth=2, capsize=.2)\n",
    "sns.stripplot(y=\"resp_ret_confidence.keys\",data=data_age.loc[data_age.age == 1],\n",
    "              size=5, alpha=.8, zorder=0, jitter=.1)\n",
    "plt.ylabel('Mean Confidence', fontsize=18)\n",
    "plt.yticks(fontsize=16)\n",
    "plt.grid(False)\n",
    "plt.xticks([])\n",
    "plt.ylim(1,6.1)\n",
    "\n",
    "\n",
    "# show distribution of values for vividness:\n",
    "plt.axes(axes[0,1])\n",
    "older_part_df.hist(ax=axes[0,1], column='resp_ret_vividness.keys', bins=12,\n",
    "            xlabelsize=16, ylabelsize=14, width=0.95, alpha=.8,\n",
    "            range=(1,6), align='left', density=True)\n",
    "plt.xlabel('Vividness Rating', fontsize=18)\n",
    "plt.ylabel('Probability', fontsize=18)\n",
    "plt.ylim([0,1])\n",
    "plt.xlim([0.5,6.5])\n",
    "plt.yticks(fontsize=14)\n",
    "plt.xticks(fontsize=18)\n",
    "plt.title('')\n",
    "plt.grid(False)\n",
    "\n",
    "\n",
    "# show distribution of values for confidence:\n",
    "plt.axes(axes[1,1])\n",
    "older_part_df.hist(ax=axes[1,1], column='resp_ret_confidence.keys', bins=12,\n",
    "            xlabelsize=16, ylabelsize=14, width=0.95, alpha=.8,\n",
    "            range=(1,6), align='left', density=True)\n",
    "plt.xlabel('Confidence Rating', fontsize=18)\n",
    "plt.ylabel('Probability', fontsize=18)\n",
    "plt.ylim([0,1])\n",
    "plt.xlim([0.5,6.5])\n",
    "plt.yticks(fontsize=14)\n",
    "plt.xticks(fontsize=18)\n",
    "plt.title('')\n",
    "plt.grid(False)\n",
    "\n",
    "\n",
    "plt.show()"
   ]
  },
  {
   "cell_type": "code",
   "execution_count": 18,
   "metadata": {},
   "outputs": [
    {
     "data": {
      "image/png": "[encoded data removed]",
      "text/plain": [
       "<Figure size 900x700 with 4 Axes>"
      ]
     },
     "metadata": {},
     "output_type": "display_data"
    }
   ],
   "source": [
    "# plotting younger adults descriptive data:\n",
    "fig, axes = plt.subplots(2, 2, figsize=(9,7),\n",
    "                         gridspec_kw={\n",
    "                               'width_ratios': [1, 4],\n",
    "                               'wspace': 0.5,\n",
    "                               'hspace': 0.5})\n",
    "\n",
    "fig.suptitle('Younger adults', fontsize=20)\n",
    "\n",
    "# vividness younger adults\n",
    "plt.axes(axes[0,0])\n",
    "sns.barplot(y='resp_ret_vividness.keys',data=data_age.loc[data_age.age == 0], alpha=.6,\n",
    "            dodge=True, errcolor=\"k\", errwidth=2, capsize=.2)\n",
    "sns.stripplot(y='resp_ret_vividness.keys',data=data_age.loc[data_age.age == 0],\n",
    "              size=5, alpha=.8, zorder=0, jitter=.1)\n",
    "plt.ylabel('Mean Vividness', fontsize=18)\n",
    "plt.yticks(fontsize=16)\n",
    "plt.grid(False)\n",
    "plt.xticks([])\n",
    "plt.ylim(1,6.1)\n",
    "\n",
    "\n",
    "# confidence younger adults\n",
    "plt.axes(axes[1,0])\n",
    "sns.barplot(y='resp_ret_confidence.keys',data=data_age.loc[data_age.age == 0], alpha=.6,\n",
    "            dodge=True, errcolor=\"k\", errwidth=2, capsize=.2)\n",
    "sns.stripplot(y='resp_ret_confidence.keys',data=data_age.loc[data_age.age == 0],\n",
    "              size=5, alpha=.8, zorder=0, jitter=.1)\n",
    "plt.ylabel('Mean Confidence', fontsize=18)\n",
    "plt.yticks(fontsize=16)\n",
    "plt.grid(False)\n",
    "plt.xticks([])\n",
    "plt.ylim(1,6.1)\n",
    "\n",
    "\n",
    "# show distribution of vividness values:\n",
    "plt.axes(axes[0,1])\n",
    "younger_part_df.hist(ax=axes[0,1], column='resp_ret_vividness.keys', bins=12,\n",
    "            xlabelsize=16, ylabelsize=14, width=0.95, alpha=.8,\n",
    "            range=(1,6), align='left', density=True)\n",
    "plt.xlabel('Vividness Rating', fontsize=18)\n",
    "plt.ylabel('Probability', fontsize=18)\n",
    "plt.ylim([0,1])\n",
    "plt.xlim([0.5,6.5])\n",
    "plt.yticks(fontsize=14)\n",
    "plt.xticks(fontsize=18)\n",
    "plt.title('')\n",
    "plt.grid(False)\n",
    "\n",
    "# show distribution of confidence values:\n",
    "plt.axes(axes[1,1])\n",
    "younger_part_df.hist(ax=axes[1,1], column='resp_ret_confidence.keys', bins=12,\n",
    "            xlabelsize=16, ylabelsize=14, width=0.95, alpha=.8,\n",
    "            range=(1,6), align='left', density=True)\n",
    "plt.xlabel('Confidence Rating', fontsize=18)\n",
    "plt.ylabel('Probability', fontsize=18)\n",
    "plt.ylim([0,1])\n",
    "plt.xlim([0.5,6.5])\n",
    "plt.yticks(fontsize=14)\n",
    "plt.xticks(fontsize=18)\n",
    "plt.title('')\n",
    "plt.grid(False)\n",
    "\n",
    "\n",
    "plt.show()"
   ]
  },
  {
   "cell_type": "markdown",
   "metadata": {},
   "source": [
    "Is there a difference between young vs older adults in confidence and vividness ratings?"
   ]
  },
  {
   "cell_type": "code",
   "execution_count": 19,
   "metadata": {},
   "outputs": [
    {
     "data": {
      "image/png": "[encoded data removed]",
      "text/plain": [
       "<Figure size 1000x500 with 2 Axes>"
      ]
     },
     "metadata": {},
     "output_type": "display_data"
    }
   ],
   "source": [
    "fig, axes = plt.subplots(1, 2, figsize=(10,5),\n",
    "                         gridspec_kw={\n",
    "                               'width_ratios': [1, 1],\n",
    "                               'wspace': 0.5,\n",
    "                               'hspace': 0.5})\n",
    "\n",
    "# vividness\n",
    "plt.axes(axes[0])\n",
    "sns.barplot(y='resp_ret_vividness.keys',x='age',data=data_age, alpha=.6,\n",
    "            dodge=True, errcolor=\"k\", errwidth=2, capsize=.2)\n",
    "sns.stripplot(y='resp_ret_vividness.keys',x='age',data=data_age,\n",
    "              size=5, alpha=.8, zorder=0, jitter=.1)\n",
    "plt.ylim(1,6.1)\n",
    "plt.ylabel('Mean Vividness', fontsize=18)\n",
    "plt.xlabel('Age')\n",
    "plt.yticks(fontsize=16)\n",
    "plt.xticks(np.arange(2), ['Young adults', 'Older adults'], fontsize=15)\n",
    "plt.grid(False)\n",
    "\n",
    "# confidence\n",
    "plt.axes(axes[1])\n",
    "sns.barplot(y='resp_ret_confidence.keys',x='age',data=data_age, alpha=.6,\n",
    "            dodge=True, errcolor=\"k\", errwidth=2, capsize=.2)\n",
    "sns.stripplot(y='resp_ret_confidence.keys',x='age',data=data_age,\n",
    "              hue='age',\n",
    "              size=5, alpha=.8, zorder=0, jitter=.1)\n",
    "plt.ylim(1,6.1)\n",
    "plt.ylabel('Mean Confidence', fontsize=18)\n",
    "plt.xlabel('Age')\n",
    "plt.yticks(fontsize=16)\n",
    "plt.xticks(np.arange(2), ['Young adults', 'Older adults'], fontsize=15)\n",
    "plt.grid(False)\n",
    "\n",
    "plt.show()"
   ]
  },
  {
   "cell_type": "code",
   "execution_count": 20,
   "metadata": {},
   "outputs": [
    {
     "data": {
      "text/html": [
       "<div>\n",
       "<style scoped>\n",
       "    .dataframe tbody tr th:only-of-type {\n",
       "        vertical-align: middle;\n",
       "    }\n",
       "\n",
       "    .dataframe tbody tr th {\n",
       "        vertical-align: top;\n",
       "    }\n",
       "\n",
       "    .dataframe thead th {\n",
       "        text-align: right;\n",
       "    }\n",
       "</style>\n",
       "<table border=\"1\" class=\"dataframe\">\n",
       "  <thead>\n",
       "    <tr style=\"text-align: right;\">\n",
       "      <th></th>\n",
       "      <th>W</th>\n",
       "      <th>pval</th>\n",
       "      <th>normal</th>\n",
       "    </tr>\n",
       "    <tr>\n",
       "      <th>age</th>\n",
       "      <th></th>\n",
       "      <th></th>\n",
       "      <th></th>\n",
       "    </tr>\n",
       "  </thead>\n",
       "  <tbody>\n",
       "    <tr>\n",
       "      <th>0</th>\n",
       "      <td>0.559086</td>\n",
       "      <td>0.0</td>\n",
       "      <td>False</td>\n",
       "    </tr>\n",
       "    <tr>\n",
       "      <th>1</th>\n",
       "      <td>0.768606</td>\n",
       "      <td>0.0</td>\n",
       "      <td>False</td>\n",
       "    </tr>\n",
       "  </tbody>\n",
       "</table>\n",
       "</div>"
      ],
      "text/plain": [
       "            W  pval  normal\n",
       "age                        \n",
       "0    0.559086   0.0   False\n",
       "1    0.768606   0.0   False"
      ]
     },
     "execution_count": 20,
     "metadata": {},
     "output_type": "execute_result"
    }
   ],
   "source": [
    "pg.normality(df, dv='resp_ret_vividness.rt', group='age', method='shapiro', alpha=0.05)"
   ]
  },
  {
   "cell_type": "code",
   "execution_count": 21,
   "metadata": {},
   "outputs": [
    {
     "data": {
      "text/html": [
       "<div>\n",
       "<style scoped>\n",
       "    .dataframe tbody tr th:only-of-type {\n",
       "        vertical-align: middle;\n",
       "    }\n",
       "\n",
       "    .dataframe tbody tr th {\n",
       "        vertical-align: top;\n",
       "    }\n",
       "\n",
       "    .dataframe thead th {\n",
       "        text-align: right;\n",
       "    }\n",
       "</style>\n",
       "<table border=\"1\" class=\"dataframe\">\n",
       "  <thead>\n",
       "    <tr style=\"text-align: right;\">\n",
       "      <th></th>\n",
       "      <th>U-val</th>\n",
       "      <th>alternative</th>\n",
       "      <th>p-val</th>\n",
       "      <th>RBC</th>\n",
       "      <th>CLES</th>\n",
       "    </tr>\n",
       "  </thead>\n",
       "  <tbody>\n",
       "    <tr>\n",
       "      <th>MWU</th>\n",
       "      <td>1841089.5</td>\n",
       "      <td>two-sided</td>\n",
       "      <td>3.237158e-76</td>\n",
       "      <td>0.313502</td>\n",
       "      <td>0.343249</td>\n",
       "    </tr>\n",
       "  </tbody>\n",
       "</table>\n",
       "</div>"
      ],
      "text/plain": [
       "         U-val alternative         p-val       RBC      CLES\n",
       "MWU  1841089.5   two-sided  3.237158e-76  0.313502  0.343249"
      ]
     },
     "execution_count": 21,
     "metadata": {},
     "output_type": "execute_result"
    }
   ],
   "source": [
    "pg.mwu(older_part_df['resp_ret_vividness.keys'], younger_part_df['resp_ret_vividness.keys'], alternative='two-sided')"
   ]
  },
  {
   "cell_type": "code",
   "execution_count": 22,
   "metadata": {},
   "outputs": [
    {
     "data": {
      "text/html": [
       "<div>\n",
       "<style scoped>\n",
       "    .dataframe tbody tr th:only-of-type {\n",
       "        vertical-align: middle;\n",
       "    }\n",
       "\n",
       "    .dataframe tbody tr th {\n",
       "        vertical-align: top;\n",
       "    }\n",
       "\n",
       "    .dataframe thead th {\n",
       "        text-align: right;\n",
       "    }\n",
       "</style>\n",
       "<table border=\"1\" class=\"dataframe\">\n",
       "  <thead>\n",
       "    <tr style=\"text-align: right;\">\n",
       "      <th></th>\n",
       "      <th>Mean</th>\n",
       "      <th>SE</th>\n",
       "      <th>SD</th>\n",
       "    </tr>\n",
       "    <tr>\n",
       "      <th>age</th>\n",
       "      <th></th>\n",
       "      <th></th>\n",
       "      <th></th>\n",
       "    </tr>\n",
       "  </thead>\n",
       "  <tbody>\n",
       "    <tr>\n",
       "      <th>0</th>\n",
       "      <td>3.282665</td>\n",
       "      <td>0.092546</td>\n",
       "      <td>0.906765</td>\n",
       "    </tr>\n",
       "    <tr>\n",
       "      <th>1</th>\n",
       "      <td>2.475960</td>\n",
       "      <td>0.095128</td>\n",
       "      <td>0.936901</td>\n",
       "    </tr>\n",
       "  </tbody>\n",
       "</table>\n",
       "</div>"
      ],
      "text/plain": [
       "         Mean        SE        SD\n",
       "age                              \n",
       "0    3.282665  0.092546  0.906765\n",
       "1    2.475960  0.095128  0.936901"
      ]
     },
     "execution_count": 22,
     "metadata": {},
     "output_type": "execute_result"
    }
   ],
   "source": [
    "data_age.groupby('age').agg(Mean=('resp_ret_vividness.keys', 'mean'),\n",
    "                                     SE=('resp_ret_vividness.keys', 'sem'), SD=('resp_ret_vividness.keys', np.std))"
   ]
  },
  {
   "cell_type": "code",
   "execution_count": 23,
   "metadata": {},
   "outputs": [
    {
     "data": {
      "text/html": [
       "<div>\n",
       "<style scoped>\n",
       "    .dataframe tbody tr th:only-of-type {\n",
       "        vertical-align: middle;\n",
       "    }\n",
       "\n",
       "    .dataframe tbody tr th {\n",
       "        vertical-align: top;\n",
       "    }\n",
       "\n",
       "    .dataframe thead th {\n",
       "        text-align: right;\n",
       "    }\n",
       "</style>\n",
       "<table border=\"1\" class=\"dataframe\">\n",
       "  <thead>\n",
       "    <tr style=\"text-align: right;\">\n",
       "      <th></th>\n",
       "      <th>W</th>\n",
       "      <th>pval</th>\n",
       "      <th>normal</th>\n",
       "    </tr>\n",
       "    <tr>\n",
       "      <th>age</th>\n",
       "      <th></th>\n",
       "      <th></th>\n",
       "      <th></th>\n",
       "    </tr>\n",
       "  </thead>\n",
       "  <tbody>\n",
       "    <tr>\n",
       "      <th>0</th>\n",
       "      <td>0.382305</td>\n",
       "      <td>0.0</td>\n",
       "      <td>False</td>\n",
       "    </tr>\n",
       "    <tr>\n",
       "      <th>1</th>\n",
       "      <td>0.784308</td>\n",
       "      <td>0.0</td>\n",
       "      <td>False</td>\n",
       "    </tr>\n",
       "  </tbody>\n",
       "</table>\n",
       "</div>"
      ],
      "text/plain": [
       "            W  pval  normal\n",
       "age                        \n",
       "0    0.382305   0.0   False\n",
       "1    0.784308   0.0   False"
      ]
     },
     "execution_count": 23,
     "metadata": {},
     "output_type": "execute_result"
    }
   ],
   "source": [
    "pg.normality(df, dv='resp_ret_confidence.rt', group='age', method='shapiro', alpha=0.05)"
   ]
  },
  {
   "cell_type": "code",
   "execution_count": 24,
   "metadata": {},
   "outputs": [
    {
     "data": {
      "text/html": [
       "<div>\n",
       "<style scoped>\n",
       "    .dataframe tbody tr th:only-of-type {\n",
       "        vertical-align: middle;\n",
       "    }\n",
       "\n",
       "    .dataframe tbody tr th {\n",
       "        vertical-align: top;\n",
       "    }\n",
       "\n",
       "    .dataframe thead th {\n",
       "        text-align: right;\n",
       "    }\n",
       "</style>\n",
       "<table border=\"1\" class=\"dataframe\">\n",
       "  <thead>\n",
       "    <tr style=\"text-align: right;\">\n",
       "      <th></th>\n",
       "      <th>U-val</th>\n",
       "      <th>alternative</th>\n",
       "      <th>p-val</th>\n",
       "      <th>RBC</th>\n",
       "      <th>CLES</th>\n",
       "    </tr>\n",
       "  </thead>\n",
       "  <tbody>\n",
       "    <tr>\n",
       "      <th>MWU</th>\n",
       "      <td>1656854.5</td>\n",
       "      <td>two-sided</td>\n",
       "      <td>2.399374e-112</td>\n",
       "      <td>0.382199</td>\n",
       "      <td>0.308901</td>\n",
       "    </tr>\n",
       "  </tbody>\n",
       "</table>\n",
       "</div>"
      ],
      "text/plain": [
       "         U-val alternative          p-val       RBC      CLES\n",
       "MWU  1656854.5   two-sided  2.399374e-112  0.382199  0.308901"
      ]
     },
     "execution_count": 24,
     "metadata": {},
     "output_type": "execute_result"
    }
   ],
   "source": [
    "pg.mwu(older_part_df['resp_ret_confidence.keys'], younger_part_df['resp_ret_confidence.keys'], alternative='two-sided')"
   ]
  },
  {
   "cell_type": "code",
   "execution_count": 25,
   "metadata": {},
   "outputs": [
    {
     "data": {
      "text/html": [
       "<div>\n",
       "<style scoped>\n",
       "    .dataframe tbody tr th:only-of-type {\n",
       "        vertical-align: middle;\n",
       "    }\n",
       "\n",
       "    .dataframe tbody tr th {\n",
       "        vertical-align: top;\n",
       "    }\n",
       "\n",
       "    .dataframe thead th {\n",
       "        text-align: right;\n",
       "    }\n",
       "</style>\n",
       "<table border=\"1\" class=\"dataframe\">\n",
       "  <thead>\n",
       "    <tr style=\"text-align: right;\">\n",
       "      <th></th>\n",
       "      <th>Mean</th>\n",
       "      <th>SE</th>\n",
       "      <th>SD</th>\n",
       "    </tr>\n",
       "    <tr>\n",
       "      <th>age</th>\n",
       "      <th></th>\n",
       "      <th></th>\n",
       "      <th></th>\n",
       "    </tr>\n",
       "  </thead>\n",
       "  <tbody>\n",
       "    <tr>\n",
       "      <th>0</th>\n",
       "      <td>3.754311</td>\n",
       "      <td>0.095723</td>\n",
       "      <td>0.937892</td>\n",
       "    </tr>\n",
       "    <tr>\n",
       "      <th>1</th>\n",
       "      <td>2.679033</td>\n",
       "      <td>0.106683</td>\n",
       "      <td>1.050706</td>\n",
       "    </tr>\n",
       "  </tbody>\n",
       "</table>\n",
       "</div>"
      ],
      "text/plain": [
       "         Mean        SE        SD\n",
       "age                              \n",
       "0    3.754311  0.095723  0.937892\n",
       "1    2.679033  0.106683  1.050706"
      ]
     },
     "execution_count": 25,
     "metadata": {},
     "output_type": "execute_result"
    }
   ],
   "source": [
    "data_age.groupby('age').agg(Mean=('resp_ret_confidence.keys', 'mean'),\n",
    "                                     SE=('resp_ret_confidence.keys', 'sem'),\n",
    "                            SD=('resp_ret_confidence.keys', np.std))"
   ]
  },
  {
   "cell_type": "markdown",
   "metadata": {},
   "source": [
    "Vividness-Confidence correlation"
   ]
  },
  {
   "cell_type": "code",
   "execution_count": 26,
   "metadata": {},
   "outputs": [
    {
     "data": {
      "text/html": [
       "<div>\n",
       "<style scoped>\n",
       "    .dataframe tbody tr th:only-of-type {\n",
       "        vertical-align: middle;\n",
       "    }\n",
       "\n",
       "    .dataframe tbody tr th {\n",
       "        vertical-align: top;\n",
       "    }\n",
       "\n",
       "    .dataframe thead th {\n",
       "        text-align: right;\n",
       "    }\n",
       "</style>\n",
       "<table border=\"1\" class=\"dataframe\">\n",
       "  <thead>\n",
       "    <tr style=\"text-align: right;\">\n",
       "      <th></th>\n",
       "      <th>r</th>\n",
       "      <th>dof</th>\n",
       "      <th>pval</th>\n",
       "      <th>CI95%</th>\n",
       "      <th>power</th>\n",
       "    </tr>\n",
       "  </thead>\n",
       "  <tbody>\n",
       "    <tr>\n",
       "      <th>rm_corr</th>\n",
       "      <td>0.828944</td>\n",
       "      <td>4438</td>\n",
       "      <td>0.0</td>\n",
       "      <td>[0.82, 0.84]</td>\n",
       "      <td>1.0</td>\n",
       "    </tr>\n",
       "  </tbody>\n",
       "</table>\n",
       "</div>"
      ],
      "text/plain": [
       "                r   dof  pval         CI95%  power\n",
       "rm_corr  0.828944  4438   0.0  [0.82, 0.84]    1.0"
      ]
     },
     "execution_count": 26,
     "metadata": {},
     "output_type": "execute_result"
    }
   ],
   "source": [
    "pg.rm_corr(data=df,x='resp_ret_vividness.keys',y='resp_ret_confidence.keys',subject='participant')"
   ]
  },
  {
   "cell_type": "code",
   "execution_count": 27,
   "metadata": {},
   "outputs": [
    {
     "data": {
      "text/html": [
       "<div>\n",
       "<style scoped>\n",
       "    .dataframe tbody tr th:only-of-type {\n",
       "        vertical-align: middle;\n",
       "    }\n",
       "\n",
       "    .dataframe tbody tr th {\n",
       "        vertical-align: top;\n",
       "    }\n",
       "\n",
       "    .dataframe thead th {\n",
       "        text-align: right;\n",
       "    }\n",
       "</style>\n",
       "<table border=\"1\" class=\"dataframe\">\n",
       "  <thead>\n",
       "    <tr style=\"text-align: right;\">\n",
       "      <th></th>\n",
       "      <th>r</th>\n",
       "      <th>dof</th>\n",
       "      <th>pval</th>\n",
       "      <th>CI95%</th>\n",
       "      <th>power</th>\n",
       "    </tr>\n",
       "  </thead>\n",
       "  <tbody>\n",
       "    <tr>\n",
       "      <th>rm_corr</th>\n",
       "      <td>0.9</td>\n",
       "      <td>2230</td>\n",
       "      <td>0.0</td>\n",
       "      <td>[0.89, 0.9]</td>\n",
       "      <td>1.0</td>\n",
       "    </tr>\n",
       "  </tbody>\n",
       "</table>\n",
       "</div>"
      ],
      "text/plain": [
       "           r   dof  pval        CI95%  power\n",
       "rm_corr  0.9  2230   0.0  [0.89, 0.9]    1.0"
      ]
     },
     "execution_count": 27,
     "metadata": {},
     "output_type": "execute_result"
    }
   ],
   "source": [
    "pg.rm_corr(data=df.loc[df.age == 1],x='resp_ret_vividness.keys',y='resp_ret_confidence.keys',subject='participant').round(2)"
   ]
  },
  {
   "cell_type": "code",
   "execution_count": 28,
   "metadata": {},
   "outputs": [
    {
     "data": {
      "text/html": [
       "<div>\n",
       "<style scoped>\n",
       "    .dataframe tbody tr th:only-of-type {\n",
       "        vertical-align: middle;\n",
       "    }\n",
       "\n",
       "    .dataframe tbody tr th {\n",
       "        vertical-align: top;\n",
       "    }\n",
       "\n",
       "    .dataframe thead th {\n",
       "        text-align: right;\n",
       "    }\n",
       "</style>\n",
       "<table border=\"1\" class=\"dataframe\">\n",
       "  <thead>\n",
       "    <tr style=\"text-align: right;\">\n",
       "      <th></th>\n",
       "      <th>r</th>\n",
       "      <th>dof</th>\n",
       "      <th>pval</th>\n",
       "      <th>CI95%</th>\n",
       "      <th>power</th>\n",
       "    </tr>\n",
       "  </thead>\n",
       "  <tbody>\n",
       "    <tr>\n",
       "      <th>rm_corr</th>\n",
       "      <td>0.78</td>\n",
       "      <td>2207</td>\n",
       "      <td>0.0</td>\n",
       "      <td>[0.76, 0.8]</td>\n",
       "      <td>1.0</td>\n",
       "    </tr>\n",
       "  </tbody>\n",
       "</table>\n",
       "</div>"
      ],
      "text/plain": [
       "            r   dof  pval        CI95%  power\n",
       "rm_corr  0.78  2207   0.0  [0.76, 0.8]    1.0"
      ]
     },
     "execution_count": 28,
     "metadata": {},
     "output_type": "execute_result"
    }
   ],
   "source": [
    "pg.rm_corr(data=df.loc[df.age == 0],x='resp_ret_vividness.keys',y='resp_ret_confidence.keys',subject='participant').round(2)"
   ]
  },
  {
   "cell_type": "markdown",
   "metadata": {},
   "source": [
    "## 1.4 Gist and Detail Memory performance checks"
   ]
  },
  {
   "cell_type": "code",
   "execution_count": 29,
   "metadata": {},
   "outputs": [
    {
     "name": "stderr",
     "output_type": "stream",
     "text": [
      "C:\\Users\\km675\\PycharmProjects\\ageing_vividness_confidence\\helper_functions.py:101: FutureWarning: merging between different levels is deprecated and will be removed in a future version. (1 levels on the left, 2 on the right)\n",
      "  memory_data = memory_data.merge(feature_wide, on=['participant', 'event'])\n",
      "C:\\Users\\km675\\PycharmProjects\\ageing_vividness_confidence\\helper_functions.py:101: PerformanceWarning: dropping on a non-lexsorted multi-index without a level parameter may impact performance.\n",
      "  memory_data = memory_data.merge(feature_wide, on=['participant', 'event'])\n"
     ]
    }
   ],
   "source": [
    "memory_data = format_memory_data(df)"
   ]
  },
  {
   "cell_type": "code",
   "execution_count": 30,
   "metadata": {},
   "outputs": [],
   "source": [
    "specificity_data = memory_data\n",
    "specificity_data['total_gist'] = specificity_data['gist_object'] + specificity_data['gist_person'] + specificity_data['gist_place']\n",
    "specificity_data['total_detail'] = specificity_data['detail_object'] + specificity_data['detail_person'] + specificity_data['detail_place']"
   ]
  },
  {
   "cell_type": "code",
   "execution_count": 31,
   "metadata": {},
   "outputs": [],
   "source": [
    "older_specificity_data, younger_specificity_data = [x for _, x in specificity_data.groupby(specificity_data['age'] == 0)]"
   ]
  },
  {
   "cell_type": "code",
   "execution_count": 32,
   "metadata": {},
   "outputs": [],
   "source": [
    "older_specificity_data = (older_specificity_data.groupby('participant'))[['total_gist', 'total_detail', 'age']].mean()"
   ]
  },
  {
   "cell_type": "code",
   "execution_count": 33,
   "metadata": {},
   "outputs": [],
   "source": [
    "younger_specificity_data = (younger_specificity_data.groupby('participant'))[['total_gist', 'total_detail', 'age']].mean()"
   ]
  },
  {
   "cell_type": "code",
   "execution_count": 34,
   "metadata": {},
   "outputs": [
    {
     "data": {
      "image/png": "[encoded data removed]",
      "text/plain": [
       "<Figure size 900x700 with 4 Axes>"
      ]
     },
     "metadata": {},
     "output_type": "display_data"
    }
   ],
   "source": [
    "# plotting younger adults descriptive data:\n",
    "fig, axes = plt.subplots(2,2, figsize=(9,7),\n",
    "                         gridspec_kw={\n",
    "                               'width_ratios': [1, 1],\n",
    "                               'wspace': 0.5,\n",
    "                               'hspace': 0.5})\n",
    "\n",
    "fig.suptitle('Mean memory scores', fontsize=20)\n",
    "\n",
    "\n",
    "# show distribution of gist older values:\n",
    "plt.axes(axes[0,0])\n",
    "older_specificity_data.hist(ax=axes[0,0], column='total_gist', width=0.3)\n",
    "plt.xlabel('Gist Performance Older', fontsize=13)\n",
    "plt.ylabel('Frequency', fontsize=10)\n",
    "plt.xlim([0,3.1])\n",
    "plt.ylim([0,25])\n",
    "plt.title('')\n",
    "plt.grid(False)\n",
    "\n",
    "# show distribution of gist younger values:\n",
    "plt.axes(axes[1,0])\n",
    "younger_specificity_data.hist(ax=axes[1,0], column='total_gist', width=0.3)\n",
    "plt.xlabel('Gist Performance Younger', fontsize=13)\n",
    "plt.ylabel('Frequency', fontsize=10)\n",
    "plt.xlim([0,3.1])\n",
    "plt.ylim([0,25])\n",
    "plt.title('')\n",
    "plt.grid(False)\n",
    "\n",
    "# show distribution of detail older values:\n",
    "plt.axes(axes[0,1])\n",
    "older_specificity_data.hist(ax=axes[0,1], column='total_detail', width=0.3)\n",
    "plt.xlabel('Detail Performance Older', fontsize=13)\n",
    "plt.ylabel('Frequency', fontsize=10)\n",
    "plt.xlim([0,3.1])\n",
    "plt.ylim([0,25])\n",
    "plt.title('')\n",
    "plt.grid(False)\n",
    "\n",
    "# show distribution of detail younger values:\n",
    "plt.axes(axes[1,1])\n",
    "younger_specificity_data.hist(ax=axes[1,1], column='total_detail', width=0.3)\n",
    "plt.xlabel('Detail Performance Younger', fontsize=13)\n",
    "plt.ylabel('Frequency', fontsize=10)\n",
    "plt.xlim([0,3.1])\n",
    "plt.ylim([0,25])\n",
    "plt.title('')\n",
    "plt.grid(False)\n",
    "# sns.distplot(younger_specificity_data['total_detail'], hist = False, kde = True,\n",
    "#                  kde_kws = {'linewidth': 3},\n",
    "#                  label = '')\n",
    "\n",
    "\n",
    "plt.show()"
   ]
  },
  {
   "cell_type": "code",
   "execution_count": 35,
   "metadata": {},
   "outputs": [
    {
     "data": {
      "text/html": [
       "<div>\n",
       "<style scoped>\n",
       "    .dataframe tbody tr th:only-of-type {\n",
       "        vertical-align: middle;\n",
       "    }\n",
       "\n",
       "    .dataframe tbody tr th {\n",
       "        vertical-align: top;\n",
       "    }\n",
       "\n",
       "    .dataframe thead th {\n",
       "        text-align: right;\n",
       "    }\n",
       "</style>\n",
       "<table border=\"1\" class=\"dataframe\">\n",
       "  <thead>\n",
       "    <tr style=\"text-align: right;\">\n",
       "      <th></th>\n",
       "      <th>U-val</th>\n",
       "      <th>alternative</th>\n",
       "      <th>p-val</th>\n",
       "      <th>RBC</th>\n",
       "      <th>CLES</th>\n",
       "    </tr>\n",
       "  </thead>\n",
       "  <tbody>\n",
       "    <tr>\n",
       "      <th>MWU</th>\n",
       "      <td>6085.0</td>\n",
       "      <td>two-sided</td>\n",
       "      <td>0.00023</td>\n",
       "      <td>-0.306916</td>\n",
       "      <td>0.653458</td>\n",
       "    </tr>\n",
       "  </tbody>\n",
       "</table>\n",
       "</div>"
      ],
      "text/plain": [
       "      U-val alternative    p-val       RBC      CLES\n",
       "MWU  6085.0   two-sided  0.00023 -0.306916  0.653458"
      ]
     },
     "execution_count": 35,
     "metadata": {},
     "output_type": "execute_result"
    }
   ],
   "source": [
    "pg.mwu(younger_specificity_data.total_gist.astype('float'), older_specificity_data.total_gist.astype('float'), alternative='two-sided')"
   ]
  },
  {
   "cell_type": "code",
   "execution_count": 36,
   "metadata": {},
   "outputs": [
    {
     "data": {
      "text/html": [
       "<div>\n",
       "<style scoped>\n",
       "    .dataframe tbody tr th:only-of-type {\n",
       "        vertical-align: middle;\n",
       "    }\n",
       "\n",
       "    .dataframe tbody tr th {\n",
       "        vertical-align: top;\n",
       "    }\n",
       "\n",
       "    .dataframe thead th {\n",
       "        text-align: right;\n",
       "    }\n",
       "</style>\n",
       "<table border=\"1\" class=\"dataframe\">\n",
       "  <thead>\n",
       "    <tr style=\"text-align: right;\">\n",
       "      <th></th>\n",
       "      <th>Mean</th>\n",
       "      <th>SE</th>\n",
       "      <th>SD</th>\n",
       "    </tr>\n",
       "    <tr>\n",
       "      <th>age</th>\n",
       "      <th></th>\n",
       "      <th></th>\n",
       "      <th></th>\n",
       "    </tr>\n",
       "  </thead>\n",
       "  <tbody>\n",
       "    <tr>\n",
       "      <th>0</th>\n",
       "      <td>2.311632</td>\n",
       "      <td>0.019980</td>\n",
       "      <td>0.959050</td>\n",
       "    </tr>\n",
       "    <tr>\n",
       "      <th>1</th>\n",
       "      <td>2.039089</td>\n",
       "      <td>0.021685</td>\n",
       "      <td>1.046295</td>\n",
       "    </tr>\n",
       "  </tbody>\n",
       "</table>\n",
       "</div>"
      ],
      "text/plain": [
       "         Mean        SE        SD\n",
       "age                              \n",
       "0    2.311632  0.019980  0.959050\n",
       "1    2.039089  0.021685  1.046295"
      ]
     },
     "execution_count": 36,
     "metadata": {},
     "output_type": "execute_result"
    }
   ],
   "source": [
    "pd.DataFrame(specificity_data.groupby(['age']).agg(Mean=('total_gist', 'mean'),\n",
    "                                            SE=('total_gist', 'sem'), SD=('total_gist', np.std)))"
   ]
  },
  {
   "cell_type": "code",
   "execution_count": 37,
   "metadata": {},
   "outputs": [
    {
     "data": {
      "text/html": [
       "<div>\n",
       "<style scoped>\n",
       "    .dataframe tbody tr th:only-of-type {\n",
       "        vertical-align: middle;\n",
       "    }\n",
       "\n",
       "    .dataframe tbody tr th {\n",
       "        vertical-align: top;\n",
       "    }\n",
       "\n",
       "    .dataframe thead th {\n",
       "        text-align: right;\n",
       "    }\n",
       "</style>\n",
       "<table border=\"1\" class=\"dataframe\">\n",
       "  <thead>\n",
       "    <tr style=\"text-align: right;\">\n",
       "      <th></th>\n",
       "      <th>U-val</th>\n",
       "      <th>alternative</th>\n",
       "      <th>p-val</th>\n",
       "      <th>RBC</th>\n",
       "      <th>CLES</th>\n",
       "    </tr>\n",
       "  </thead>\n",
       "  <tbody>\n",
       "    <tr>\n",
       "      <th>MWU</th>\n",
       "      <td>5606.5</td>\n",
       "      <td>two-sided</td>\n",
       "      <td>0.014261</td>\n",
       "      <td>-0.204145</td>\n",
       "      <td>0.602073</td>\n",
       "    </tr>\n",
       "  </tbody>\n",
       "</table>\n",
       "</div>"
      ],
      "text/plain": [
       "      U-val alternative     p-val       RBC      CLES\n",
       "MWU  5606.5   two-sided  0.014261 -0.204145  0.602073"
      ]
     },
     "execution_count": 37,
     "metadata": {},
     "output_type": "execute_result"
    }
   ],
   "source": [
    "pg.mwu(younger_specificity_data.total_detail.astype('float'), older_specificity_data.total_detail.astype('float'), alternative='two-sided')"
   ]
  },
  {
   "cell_type": "code",
   "execution_count": 38,
   "metadata": {},
   "outputs": [
    {
     "data": {
      "text/html": [
       "<div>\n",
       "<style scoped>\n",
       "    .dataframe tbody tr th:only-of-type {\n",
       "        vertical-align: middle;\n",
       "    }\n",
       "\n",
       "    .dataframe tbody tr th {\n",
       "        vertical-align: top;\n",
       "    }\n",
       "\n",
       "    .dataframe thead th {\n",
       "        text-align: right;\n",
       "    }\n",
       "</style>\n",
       "<table border=\"1\" class=\"dataframe\">\n",
       "  <thead>\n",
       "    <tr style=\"text-align: right;\">\n",
       "      <th></th>\n",
       "      <th>Mean</th>\n",
       "      <th>SE</th>\n",
       "      <th>SD</th>\n",
       "    </tr>\n",
       "    <tr>\n",
       "      <th>age</th>\n",
       "      <th></th>\n",
       "      <th></th>\n",
       "      <th></th>\n",
       "    </tr>\n",
       "  </thead>\n",
       "  <tbody>\n",
       "    <tr>\n",
       "      <th>0</th>\n",
       "      <td>2.177951</td>\n",
       "      <td>0.017141</td>\n",
       "      <td>0.822776</td>\n",
       "    </tr>\n",
       "    <tr>\n",
       "      <th>1</th>\n",
       "      <td>2.066581</td>\n",
       "      <td>0.017371</td>\n",
       "      <td>0.838143</td>\n",
       "    </tr>\n",
       "  </tbody>\n",
       "</table>\n",
       "</div>"
      ],
      "text/plain": [
       "         Mean        SE        SD\n",
       "age                              \n",
       "0    2.177951  0.017141  0.822776\n",
       "1    2.066581  0.017371  0.838143"
      ]
     },
     "execution_count": 38,
     "metadata": {},
     "output_type": "execute_result"
    }
   ],
   "source": [
    "pd.DataFrame(specificity_data.groupby(['age']).agg(Mean=('total_detail', 'mean'),\n",
    "                                            SE=('total_detail', 'sem'), SD=('total_detail', np.std)))"
   ]
  },
  {
   "cell_type": "markdown",
   "metadata": {},
   "source": []
  },
  {
   "cell_type": "code",
   "execution_count": 39,
   "metadata": {},
   "outputs": [],
   "source": [
    "total_gist = pd.concat([older_specificity_data, younger_specificity_data])\n",
    "total_detail = pd.concat([older_specificity_data, younger_specificity_data])"
   ]
  },
  {
   "cell_type": "code",
   "execution_count": 40,
   "metadata": {},
   "outputs": [
    {
     "data": {
      "image/png": "[encoded data removed]",
      "text/plain": [
       "<Figure size 1000x500 with 2 Axes>"
      ]
     },
     "metadata": {},
     "output_type": "display_data"
    }
   ],
   "source": [
    "fig, axes = plt.subplots(1, 2, figsize=(10,5),\n",
    "                         gridspec_kw={\n",
    "                               'width_ratios': [1, 1],\n",
    "                               'wspace': 0.5,\n",
    "                               'hspace': 0.5})\n",
    "\n",
    "# gist\n",
    "plt.axes(axes[0])\n",
    "sns.barplot(y='total_gist',x='age',data=total_gist, alpha=.6,\n",
    "            dodge=True, errcolor=\"k\", errwidth=2, capsize=.2)\n",
    "sns.stripplot(y='total_gist',x='age',data=total_gist,\n",
    "              size=5, alpha=.8, zorder=0, jitter=.1)\n",
    "plt.ylim(0,3.1)\n",
    "plt.ylabel('Mean Gist Performance', fontsize=18)\n",
    "plt.xlabel('Age')\n",
    "plt.yticks(fontsize=16)\n",
    "plt.xticks(np.arange(2), ['Young adults', 'Older adults'], fontsize=15)\n",
    "plt.grid(False)\n",
    "\n",
    "# detail\n",
    "plt.axes(axes[1])\n",
    "sns.barplot(y='total_detail',x='age',data=total_detail, alpha=.6,\n",
    "            dodge=True, errcolor=\"k\", errwidth=2, capsize=.2)\n",
    "sns.stripplot(y='total_detail',x='age',data=total_detail,\n",
    "              size=5, alpha=.8, zorder=0, jitter=.1)\n",
    "plt.ylim(0,3.1)\n",
    "plt.ylabel('Mean Detail Performance', fontsize=18)\n",
    "plt.xlabel('Age')\n",
    "plt.yticks(fontsize=16)\n",
    "plt.xticks(np.arange(2), ['Young adults', 'Older adults'], fontsize=15)\n",
    "plt.grid(False)\n",
    "\n",
    "plt.show()"
   ]
  },
  {
   "cell_type": "markdown",
   "metadata": {},
   "source": [
    "# 2. Subjective and objective memory score correlations"
   ]
  },
  {
   "cell_type": "markdown",
   "metadata": {},
   "source": [
    "## 2.1 Correlation between total gist and total detail performance (collapsed across content conditions of place/person/object) and subjective ratings"
   ]
  },
  {
   "cell_type": "code",
   "execution_count": 41,
   "metadata": {},
   "outputs": [],
   "source": [
    "specificity_data = memory_data.copy()\n",
    "specificity_data['total_gist'] = specificity_data['gist_object'] + specificity_data['gist_person'] + specificity_data['gist_place']\n",
    "specificity_data['total_detail'] = specificity_data['detail_object'] + specificity_data['detail_person'] + specificity_data['detail_place']"
   ]
  },
  {
   "cell_type": "code",
   "execution_count": 42,
   "metadata": {},
   "outputs": [],
   "source": [
    "older_specificity_data, younger_specificity_data = [x for _, x in specificity_data.groupby(specificity_data['age'] == 0)]"
   ]
  },
  {
   "cell_type": "code",
   "execution_count": 43,
   "metadata": {},
   "outputs": [],
   "source": [
    "older_specificity_data_gist_viv = ratings_correlations(older_specificity_data, ['total_gist'], \"vividness\")\n",
    "older_specificity_data_gist_conf = ratings_correlations(older_specificity_data, ['total_gist'], \"confidence\")\n",
    "older_specificity_data_detail_viv = ratings_correlations(older_specificity_data, ['total_detail'], \"vividness\")\n",
    "older_specificity_data_detail_conf = ratings_correlations(older_specificity_data, ['total_detail'], \"confidence\")\n",
    "younger_specificity_data_gist_viv = ratings_correlations(younger_specificity_data, ['total_gist'], \"vividness\")\n",
    "younger_specificity_data_gist_conf = ratings_correlations(younger_specificity_data, ['total_gist'], \"confidence\")\n",
    "younger_specificity_data_detail_viv = ratings_correlations(younger_specificity_data, ['total_detail'], \"vividness\")\n",
    "younger_specificity_data_detail_conf = ratings_correlations(younger_specificity_data, ['total_detail'], \"confidence\")\n",
    "# fisher z transform before stats\n",
    "older_specificity_data_gist_viv[\"z_vividness\"] = np.arctanh(older_specificity_data_gist_viv.total_gist.astype('float'))\n",
    "older_specificity_data_gist_conf[\"z_confidence\"] = np.arctanh(older_specificity_data_gist_conf.total_gist.astype('float'))\n",
    "older_specificity_data_detail_viv[\"z_vividness\"] = np.arctanh(older_specificity_data_detail_viv.total_detail.astype('float'))\n",
    "older_specificity_data_detail_conf[\"z_confidence\"] = np.arctanh(older_specificity_data_detail_conf.total_detail.astype('float'))\n",
    "# fisher z transform before stats\n",
    "younger_specificity_data_gist_viv[\"z_vividness\"] = np.arctanh(younger_specificity_data_gist_viv.total_gist.astype('float'))\n",
    "younger_specificity_data_gist_conf[\"z_confidence\"] = np.arctanh(younger_specificity_data_gist_conf.total_gist.astype('float'))\n",
    "younger_specificity_data_detail_viv[\"z_vividness\"] = np.arctanh(younger_specificity_data_detail_viv.total_detail.astype('float'))\n",
    "younger_specificity_data_detail_conf[\"z_confidence\"] = np.arctanh(younger_specificity_data_detail_conf.total_detail.astype('float'))"
   ]
  },
  {
   "cell_type": "code",
   "execution_count": 44,
   "metadata": {},
   "outputs": [
    {
     "data": {
      "text/html": [
       "<div>\n",
       "<style scoped>\n",
       "    .dataframe tbody tr th:only-of-type {\n",
       "        vertical-align: middle;\n",
       "    }\n",
       "\n",
       "    .dataframe tbody tr th {\n",
       "        vertical-align: top;\n",
       "    }\n",
       "\n",
       "    .dataframe thead th {\n",
       "        text-align: right;\n",
       "    }\n",
       "</style>\n",
       "<table border=\"1\" class=\"dataframe\">\n",
       "  <thead>\n",
       "    <tr style=\"text-align: right;\">\n",
       "      <th></th>\n",
       "      <th>T</th>\n",
       "      <th>dof</th>\n",
       "      <th>alternative</th>\n",
       "      <th>p-val</th>\n",
       "      <th>CI95%</th>\n",
       "      <th>cohen-d</th>\n",
       "      <th>BF10</th>\n",
       "      <th>power</th>\n",
       "    </tr>\n",
       "  </thead>\n",
       "  <tbody>\n",
       "    <tr>\n",
       "      <th>T-test</th>\n",
       "      <td>1.174935</td>\n",
       "      <td>187.482012</td>\n",
       "      <td>two-sided</td>\n",
       "      <td>0.241511</td>\n",
       "      <td>[-0.03, 0.12]</td>\n",
       "      <td>0.169261</td>\n",
       "      <td>0.298</td>\n",
       "      <td>0.215592</td>\n",
       "    </tr>\n",
       "  </tbody>\n",
       "</table>\n",
       "</div>"
      ],
      "text/plain": [
       "               T         dof alternative     p-val          CI95%   cohen-d  \\\n",
       "T-test  1.174935  187.482012   two-sided  0.241511  [-0.03, 0.12]  0.169261   \n",
       "\n",
       "         BF10     power  \n",
       "T-test  0.298  0.215592  "
      ]
     },
     "execution_count": 44,
     "metadata": {},
     "output_type": "execute_result"
    }
   ],
   "source": [
    "pg.ttest(younger_specificity_data_detail_viv[\"z_vividness\"], older_specificity_data_detail_viv[\"z_vividness\"])"
   ]
  },
  {
   "cell_type": "code",
   "execution_count": 45,
   "metadata": {},
   "outputs": [
    {
     "data": {
      "text/html": [
       "<div>\n",
       "<style scoped>\n",
       "    .dataframe tbody tr th:only-of-type {\n",
       "        vertical-align: middle;\n",
       "    }\n",
       "\n",
       "    .dataframe tbody tr th {\n",
       "        vertical-align: top;\n",
       "    }\n",
       "\n",
       "    .dataframe thead th {\n",
       "        text-align: right;\n",
       "    }\n",
       "</style>\n",
       "<table border=\"1\" class=\"dataframe\">\n",
       "  <thead>\n",
       "    <tr style=\"text-align: right;\">\n",
       "      <th></th>\n",
       "      <th>T</th>\n",
       "      <th>dof</th>\n",
       "      <th>alternative</th>\n",
       "      <th>p-val</th>\n",
       "      <th>CI95%</th>\n",
       "      <th>cohen-d</th>\n",
       "      <th>BF10</th>\n",
       "      <th>power</th>\n",
       "    </tr>\n",
       "  </thead>\n",
       "  <tbody>\n",
       "    <tr>\n",
       "      <th>T-test</th>\n",
       "      <td>-1.081408</td>\n",
       "      <td>188.662819</td>\n",
       "      <td>two-sided</td>\n",
       "      <td>0.280896</td>\n",
       "      <td>[-0.17, 0.05]</td>\n",
       "      <td>0.155586</td>\n",
       "      <td>0.27</td>\n",
       "      <td>0.189369</td>\n",
       "    </tr>\n",
       "  </tbody>\n",
       "</table>\n",
       "</div>"
      ],
      "text/plain": [
       "               T         dof alternative     p-val          CI95%   cohen-d  \\\n",
       "T-test -1.081408  188.662819   two-sided  0.280896  [-0.17, 0.05]  0.155586   \n",
       "\n",
       "        BF10     power  \n",
       "T-test  0.27  0.189369  "
      ]
     },
     "execution_count": 45,
     "metadata": {},
     "output_type": "execute_result"
    }
   ],
   "source": [
    "pg.ttest(younger_specificity_data_gist_viv[\"z_vividness\"], older_specificity_data_gist_viv[\"z_vividness\"])"
   ]
  },
  {
   "cell_type": "code",
   "execution_count": 46,
   "metadata": {},
   "outputs": [
    {
     "data": {
      "text/html": [
       "<div>\n",
       "<style scoped>\n",
       "    .dataframe tbody tr th:only-of-type {\n",
       "        vertical-align: middle;\n",
       "    }\n",
       "\n",
       "    .dataframe tbody tr th {\n",
       "        vertical-align: top;\n",
       "    }\n",
       "\n",
       "    .dataframe thead th {\n",
       "        text-align: right;\n",
       "    }\n",
       "</style>\n",
       "<table border=\"1\" class=\"dataframe\">\n",
       "  <thead>\n",
       "    <tr style=\"text-align: right;\">\n",
       "      <th></th>\n",
       "      <th>T</th>\n",
       "      <th>dof</th>\n",
       "      <th>alternative</th>\n",
       "      <th>p-val</th>\n",
       "      <th>CI95%</th>\n",
       "      <th>cohen-d</th>\n",
       "      <th>BF10</th>\n",
       "      <th>power</th>\n",
       "    </tr>\n",
       "  </thead>\n",
       "  <tbody>\n",
       "    <tr>\n",
       "      <th>T-test</th>\n",
       "      <td>0.263128</td>\n",
       "      <td>186.424178</td>\n",
       "      <td>two-sided</td>\n",
       "      <td>0.792743</td>\n",
       "      <td>[-0.09, 0.11]</td>\n",
       "      <td>0.037848</td>\n",
       "      <td>0.162</td>\n",
       "      <td>0.057875</td>\n",
       "    </tr>\n",
       "  </tbody>\n",
       "</table>\n",
       "</div>"
      ],
      "text/plain": [
       "               T         dof alternative     p-val          CI95%   cohen-d  \\\n",
       "T-test  0.263128  186.424178   two-sided  0.792743  [-0.09, 0.11]  0.037848   \n",
       "\n",
       "         BF10     power  \n",
       "T-test  0.162  0.057875  "
      ]
     },
     "execution_count": 46,
     "metadata": {},
     "output_type": "execute_result"
    }
   ],
   "source": [
    "pg.ttest(younger_specificity_data_gist_conf[\"z_confidence\"], older_specificity_data_gist_conf[\"z_confidence\"])"
   ]
  },
  {
   "cell_type": "code",
   "execution_count": 47,
   "metadata": {},
   "outputs": [
    {
     "data": {
      "text/html": [
       "<div>\n",
       "<style scoped>\n",
       "    .dataframe tbody tr th:only-of-type {\n",
       "        vertical-align: middle;\n",
       "    }\n",
       "\n",
       "    .dataframe tbody tr th {\n",
       "        vertical-align: top;\n",
       "    }\n",
       "\n",
       "    .dataframe thead th {\n",
       "        text-align: right;\n",
       "    }\n",
       "</style>\n",
       "<table border=\"1\" class=\"dataframe\">\n",
       "  <thead>\n",
       "    <tr style=\"text-align: right;\">\n",
       "      <th></th>\n",
       "      <th>T</th>\n",
       "      <th>dof</th>\n",
       "      <th>alternative</th>\n",
       "      <th>p-val</th>\n",
       "      <th>CI95%</th>\n",
       "      <th>cohen-d</th>\n",
       "      <th>BF10</th>\n",
       "      <th>power</th>\n",
       "    </tr>\n",
       "  </thead>\n",
       "  <tbody>\n",
       "    <tr>\n",
       "      <th>T-test</th>\n",
       "      <td>1.878009</td>\n",
       "      <td>188.813525</td>\n",
       "      <td>two-sided</td>\n",
       "      <td>0.061922</td>\n",
       "      <td>[-0.0, 0.14]</td>\n",
       "      <td>0.270505</td>\n",
       "      <td>0.806</td>\n",
       "      <td>0.464027</td>\n",
       "    </tr>\n",
       "  </tbody>\n",
       "</table>\n",
       "</div>"
      ],
      "text/plain": [
       "               T         dof alternative     p-val         CI95%   cohen-d  \\\n",
       "T-test  1.878009  188.813525   two-sided  0.061922  [-0.0, 0.14]  0.270505   \n",
       "\n",
       "         BF10     power  \n",
       "T-test  0.806  0.464027  "
      ]
     },
     "execution_count": 47,
     "metadata": {},
     "output_type": "execute_result"
    }
   ],
   "source": [
    "pg.ttest(younger_specificity_data_detail_conf[\"z_confidence\"], older_specificity_data_detail_conf[\"z_confidence\"])"
   ]
  },
  {
   "cell_type": "markdown",
   "metadata": {},
   "source": [
    "## 2.2 Setting detail performance to be conditional upon gist performance\n",
    "**For all subsequent analyses, the performance on detail memory will be set to 0 if participant did not respond correctly to the corresponding gist question**"
   ]
  },
  {
   "cell_type": "code",
   "execution_count": 48,
   "metadata": {},
   "outputs": [
    {
     "data": {
      "text/html": [
       "<div>\n",
       "<style scoped>\n",
       "    .dataframe tbody tr th:only-of-type {\n",
       "        vertical-align: middle;\n",
       "    }\n",
       "\n",
       "    .dataframe tbody tr th {\n",
       "        vertical-align: top;\n",
       "    }\n",
       "\n",
       "    .dataframe thead th {\n",
       "        text-align: right;\n",
       "    }\n",
       "</style>\n",
       "<table border=\"1\" class=\"dataframe\">\n",
       "  <thead>\n",
       "    <tr style=\"text-align: right;\">\n",
       "      <th></th>\n",
       "      <th>participant</th>\n",
       "      <th>event</th>\n",
       "      <th>vividness</th>\n",
       "      <th>confidence</th>\n",
       "      <th>age</th>\n",
       "      <th>detail_object</th>\n",
       "      <th>detail_person</th>\n",
       "      <th>detail_place</th>\n",
       "      <th>gist_object</th>\n",
       "      <th>gist_person</th>\n",
       "      <th>gist_place</th>\n",
       "      <th>total_gist</th>\n",
       "      <th>total_detail</th>\n",
       "      <th>total</th>\n",
       "    </tr>\n",
       "  </thead>\n",
       "  <tbody>\n",
       "    <tr>\n",
       "      <th>0</th>\n",
       "      <td>100</td>\n",
       "      <td>17</td>\n",
       "      <td>1.703704</td>\n",
       "      <td>2.300926</td>\n",
       "      <td>0</td>\n",
       "      <td>0</td>\n",
       "      <td>0</td>\n",
       "      <td>0</td>\n",
       "      <td>0</td>\n",
       "      <td>0</td>\n",
       "      <td>1</td>\n",
       "      <td>1</td>\n",
       "      <td>2</td>\n",
       "      <td>1</td>\n",
       "    </tr>\n",
       "    <tr>\n",
       "      <th>1</th>\n",
       "      <td>100</td>\n",
       "      <td>11</td>\n",
       "      <td>5.805556</td>\n",
       "      <td>5.805556</td>\n",
       "      <td>0</td>\n",
       "      <td>0</td>\n",
       "      <td>1</td>\n",
       "      <td>1</td>\n",
       "      <td>1</td>\n",
       "      <td>1</td>\n",
       "      <td>1</td>\n",
       "      <td>3</td>\n",
       "      <td>2</td>\n",
       "      <td>5</td>\n",
       "    </tr>\n",
       "    <tr>\n",
       "      <th>2</th>\n",
       "      <td>100</td>\n",
       "      <td>18</td>\n",
       "      <td>5.888889</td>\n",
       "      <td>5.888889</td>\n",
       "      <td>0</td>\n",
       "      <td>1</td>\n",
       "      <td>1</td>\n",
       "      <td>0</td>\n",
       "      <td>1</td>\n",
       "      <td>1</td>\n",
       "      <td>1</td>\n",
       "      <td>3</td>\n",
       "      <td>2</td>\n",
       "      <td>5</td>\n",
       "    </tr>\n",
       "    <tr>\n",
       "      <th>3</th>\n",
       "      <td>100</td>\n",
       "      <td>4</td>\n",
       "      <td>2.462963</td>\n",
       "      <td>3.648148</td>\n",
       "      <td>0</td>\n",
       "      <td>1</td>\n",
       "      <td>0</td>\n",
       "      <td>1</td>\n",
       "      <td>1</td>\n",
       "      <td>1</td>\n",
       "      <td>1</td>\n",
       "      <td>3</td>\n",
       "      <td>2</td>\n",
       "      <td>5</td>\n",
       "    </tr>\n",
       "    <tr>\n",
       "      <th>4</th>\n",
       "      <td>100</td>\n",
       "      <td>10</td>\n",
       "      <td>5.370371</td>\n",
       "      <td>4.462963</td>\n",
       "      <td>0</td>\n",
       "      <td>1</td>\n",
       "      <td>0</td>\n",
       "      <td>1</td>\n",
       "      <td>1</td>\n",
       "      <td>1</td>\n",
       "      <td>1</td>\n",
       "      <td>3</td>\n",
       "      <td>2</td>\n",
       "      <td>5</td>\n",
       "    </tr>\n",
       "  </tbody>\n",
       "</table>\n",
       "</div>"
      ],
      "text/plain": [
       "   participant  event  vividness  confidence  age  detail_object  \\\n",
       "0          100     17   1.703704    2.300926    0              0   \n",
       "1          100     11   5.805556    5.805556    0              0   \n",
       "2          100     18   5.888889    5.888889    0              1   \n",
       "3          100      4   2.462963    3.648148    0              1   \n",
       "4          100     10   5.370371    4.462963    0              1   \n",
       "\n",
       "   detail_person  detail_place  gist_object  gist_person  gist_place  \\\n",
       "0              0             0            0            0           1   \n",
       "1              1             1            1            1           1   \n",
       "2              1             0            1            1           1   \n",
       "3              0             1            1            1           1   \n",
       "4              0             1            1            1           1   \n",
       "\n",
       "   total_gist  total_detail  total  \n",
       "0           1             2      1  \n",
       "1           3             2      5  \n",
       "2           3             2      5  \n",
       "3           3             2      5  \n",
       "4           3             2      5  "
      ]
     },
     "execution_count": 48,
     "metadata": {},
     "output_type": "execute_result"
    }
   ],
   "source": [
    "memory_measures = [\"gist_object\",\"gist_person\",\"gist_place\",\"detail_object\",\"detail_person\",\"detail_place\"]\n",
    "# copy for later gist-detail correlations\n",
    "memory_data_orig = memory_data.copy()\n",
    "\n",
    "# detail = 0 where gist = 0\n",
    "memory_data.loc[memory_data['gist_object'] == 0, 'detail_object'] = 0\n",
    "memory_data.loc[memory_data['gist_person'] == 0, 'detail_person'] = 0\n",
    "memory_data.loc[memory_data['gist_place'] == 0, 'detail_place'] = 0\n",
    "\n",
    "# finally, create summary measure\n",
    "memory_data[\"total\"] = memory_data[memory_measures].sum(axis=1)\n",
    "# saving data in the format required for an exploratory analysis conducted in matlab\n",
    "memory_data.iloc[:,:-3].to_csv('.\\data\\exploratory_analysis.csv', index=False)\n",
    "memory_data.head()"
   ]
  },
  {
   "cell_type": "code",
   "execution_count": 49,
   "metadata": {},
   "outputs": [
    {
     "data": {
      "image/png": "[encoded data removed]",
      "text/plain": [
       "<Figure size 1000x400 with 2 Axes>"
      ]
     },
     "metadata": {},
     "output_type": "display_data"
    }
   ],
   "source": [
    "older_part_df, younger_part_df = [x for _, x in memory_data.groupby(memory_data['age'] == 0)]\n",
    "\n",
    "fig, axes = plt.subplots(1, 2, figsize=(10,4),\n",
    "                         gridspec_kw={\n",
    "                               'width_ratios': [3, 3],\n",
    "                               'wspace': 0.5,\n",
    "                               'hspace': 0.5})\n",
    "\n",
    "# plot distribution of total memory scores per event (0-6)\n",
    "#older adults\n",
    "plt.axes(axes[0])\n",
    "older_part_df.hist(ax=axes[0],column='total', bins=7,\n",
    "                 xlabelsize=16, ylabelsize=14, figsize=(4.5,3),\n",
    "                 alpha=.8)\n",
    "plt.xlabel('Total details recalled', fontsize=18)\n",
    "plt.ylabel('Frequency', fontsize=18)\n",
    "plt.ylim(0,700)\n",
    "plt.xlim(0,6)\n",
    "plt.yticks(fontsize=14)\n",
    "plt.xticks(fontsize=16)\n",
    "plt.title('Older adults', fontsize=20)\n",
    "plt.grid(False)\n",
    "\n",
    "#younger adults\n",
    "plt.axes(axes[1])\n",
    "younger_part_df.hist(ax=axes[1],column='total', bins=7,\n",
    "                 xlabelsize=16, ylabelsize=14, figsize=(4.5,3),\n",
    "                 alpha=.8)\n",
    "plt.xlabel('Total details recalled', fontsize=18)\n",
    "plt.ylabel('Frequency', fontsize=18)\n",
    "plt.ylim(0,700)\n",
    "plt.xlim(0,6)\n",
    "plt.yticks(fontsize=14)\n",
    "plt.xticks(fontsize=16)\n",
    "plt.title('Younger adults', fontsize=20)\n",
    "plt.grid(False)\n",
    "\n",
    "\n",
    "\n",
    "plt.show()"
   ]
  },
  {
   "cell_type": "code",
   "execution_count": 50,
   "metadata": {},
   "outputs": [
    {
     "name": "stdout",
     "output_type": "stream",
     "text": [
      "*** Older adults ***\n",
      "\n",
      "Conditional detail object: 0.7147059395540896\n",
      "Conditional detail person: 0.6941204729029989\n",
      "Conditional detail place: 0.6632095875714675\n",
      "\n",
      "\n",
      "*** Young adults ***\n",
      "\n",
      "Conditional detail object: 0.739144562375261\n",
      "Conditional detail person: 0.7481774939472391\n",
      "Conditional detail place: 0.7293227452869457\n"
     ]
    }
   ],
   "source": [
    "# check detail memory again when conditional upon correct gist:\n",
    "\n",
    "# young adults\n",
    "print('*** Older adults ***\\n')\n",
    "print('Conditional detail object:',older_part_df[older_part_df.gist_object == 1].groupby('participant').mean().mean()['detail_object'])\n",
    "print('Conditional detail person:',older_part_df[older_part_df.gist_person == 1].groupby('participant').mean().mean()['detail_person'])\n",
    "print('Conditional detail place:',older_part_df[older_part_df.gist_place == 1].groupby('participant').mean().mean()['detail_place'])\n",
    "\n",
    "# older adults\n",
    "print('\\n\\n*** Young adults ***\\n')\n",
    "print('Conditional detail object:',younger_part_df[younger_part_df.gist_object == 1].groupby('participant').mean().mean()['detail_object'])\n",
    "print('Conditional detail person:',younger_part_df[younger_part_df.gist_person == 1].groupby('participant').mean().mean()['detail_person'])\n",
    "print('Conditional detail place:',younger_part_df[younger_part_df.gist_place == 1].groupby('participant').mean().mean()['detail_place'])"
   ]
  },
  {
   "cell_type": "markdown",
   "metadata": {},
   "source": [
    "## 2.3 Correlation between total number of attributes remembered (collapsed across specificity conditions of gist/detail and content conditions of place/person/object) and subjective ratings"
   ]
  },
  {
   "cell_type": "markdown",
   "metadata": {},
   "source": [
    "### 2.3.1 Vividness"
   ]
  },
  {
   "cell_type": "markdown",
   "metadata": {},
   "source": [
    "#### Older adults"
   ]
  },
  {
   "cell_type": "code",
   "execution_count": 51,
   "metadata": {},
   "outputs": [
    {
     "data": {
      "text/html": [
       "<div>\n",
       "<style scoped>\n",
       "    .dataframe tbody tr th:only-of-type {\n",
       "        vertical-align: middle;\n",
       "    }\n",
       "\n",
       "    .dataframe tbody tr th {\n",
       "        vertical-align: top;\n",
       "    }\n",
       "\n",
       "    .dataframe thead th {\n",
       "        text-align: right;\n",
       "    }\n",
       "</style>\n",
       "<table border=\"1\" class=\"dataframe\">\n",
       "  <thead>\n",
       "    <tr style=\"text-align: right;\">\n",
       "      <th></th>\n",
       "      <th>T</th>\n",
       "      <th>dof</th>\n",
       "      <th>alternative</th>\n",
       "      <th>p-val</th>\n",
       "      <th>CI95%</th>\n",
       "      <th>cohen-d</th>\n",
       "      <th>BF10</th>\n",
       "      <th>power</th>\n",
       "    </tr>\n",
       "  </thead>\n",
       "  <tbody>\n",
       "    <tr>\n",
       "      <th>T-test</th>\n",
       "      <td>13.741766</td>\n",
       "      <td>96</td>\n",
       "      <td>two-sided</td>\n",
       "      <td>2.114264e-24</td>\n",
       "      <td>[0.44, 0.59]</td>\n",
       "      <td>1.395265</td>\n",
       "      <td>1.92e+21</td>\n",
       "      <td>1.0</td>\n",
       "    </tr>\n",
       "  </tbody>\n",
       "</table>\n",
       "</div>"
      ],
      "text/plain": [
       "                T  dof alternative         p-val         CI95%   cohen-d  \\\n",
       "T-test  13.741766   96   two-sided  2.114264e-24  [0.44, 0.59]  1.395265   \n",
       "\n",
       "            BF10  power  \n",
       "T-test  1.92e+21    1.0  "
      ]
     },
     "execution_count": 51,
     "metadata": {},
     "output_type": "execute_result"
    }
   ],
   "source": [
    "# run correlation, fetching r per subject and feature:\n",
    "cor_params_vivid_older = ratings_correlations(older_part_df, ['total'], \"vividness\")\n",
    "\n",
    "# fisher z transform before stats\n",
    "cor_params_vivid_older[\"z_vividness\"] = np.arctanh(cor_params_vivid_older.total.astype('float'))\n",
    "\n",
    "# one-sample t-test\n",
    "pg.ttest(cor_params_vivid_older.z_vividness, 0)"
   ]
  },
  {
   "cell_type": "code",
   "execution_count": 52,
   "metadata": {},
   "outputs": [
    {
     "data": {
      "text/html": [
       "<div>\n",
       "<style scoped>\n",
       "    .dataframe tbody tr th:only-of-type {\n",
       "        vertical-align: middle;\n",
       "    }\n",
       "\n",
       "    .dataframe tbody tr th {\n",
       "        vertical-align: top;\n",
       "    }\n",
       "\n",
       "    .dataframe thead th {\n",
       "        text-align: right;\n",
       "    }\n",
       "</style>\n",
       "<table border=\"1\" class=\"dataframe\">\n",
       "  <thead>\n",
       "    <tr style=\"text-align: right;\">\n",
       "      <th></th>\n",
       "      <th>z_vividness</th>\n",
       "    </tr>\n",
       "  </thead>\n",
       "  <tbody>\n",
       "    <tr>\n",
       "      <th>Mean</th>\n",
       "      <td>0.513768</td>\n",
       "    </tr>\n",
       "    <tr>\n",
       "      <th>SE</th>\n",
       "      <td>0.037387</td>\n",
       "    </tr>\n",
       "  </tbody>\n",
       "</table>\n",
       "</div>"
      ],
      "text/plain": [
       "      z_vividness\n",
       "Mean     0.513768\n",
       "SE       0.037387"
      ]
     },
     "execution_count": 52,
     "metadata": {},
     "output_type": "execute_result"
    }
   ],
   "source": [
    "# group average older\n",
    "pd.DataFrame(cor_params_vivid_older.agg(Mean=('z_vividness', 'mean'),\n",
    "                             SE=('z_vividness', 'sem')))"
   ]
  },
  {
   "cell_type": "markdown",
   "metadata": {},
   "source": [
    "#### Young adults"
   ]
  },
  {
   "cell_type": "code",
   "execution_count": 53,
   "metadata": {},
   "outputs": [
    {
     "data": {
      "text/html": [
       "<div>\n",
       "<style scoped>\n",
       "    .dataframe tbody tr th:only-of-type {\n",
       "        vertical-align: middle;\n",
       "    }\n",
       "\n",
       "    .dataframe tbody tr th {\n",
       "        vertical-align: top;\n",
       "    }\n",
       "\n",
       "    .dataframe thead th {\n",
       "        text-align: right;\n",
       "    }\n",
       "</style>\n",
       "<table border=\"1\" class=\"dataframe\">\n",
       "  <thead>\n",
       "    <tr style=\"text-align: right;\">\n",
       "      <th></th>\n",
       "      <th>T</th>\n",
       "      <th>dof</th>\n",
       "      <th>alternative</th>\n",
       "      <th>p-val</th>\n",
       "      <th>CI95%</th>\n",
       "      <th>cohen-d</th>\n",
       "      <th>BF10</th>\n",
       "      <th>power</th>\n",
       "    </tr>\n",
       "  </thead>\n",
       "  <tbody>\n",
       "    <tr>\n",
       "      <th>T-test</th>\n",
       "      <td>12.524649</td>\n",
       "      <td>95</td>\n",
       "      <td>two-sided</td>\n",
       "      <td>7.912877e-22</td>\n",
       "      <td>[0.39, 0.54]</td>\n",
       "      <td>1.278292</td>\n",
       "      <td>5.791e+18</td>\n",
       "      <td>1.0</td>\n",
       "    </tr>\n",
       "  </tbody>\n",
       "</table>\n",
       "</div>"
      ],
      "text/plain": [
       "                T  dof alternative         p-val         CI95%   cohen-d  \\\n",
       "T-test  12.524649   95   two-sided  7.912877e-22  [0.39, 0.54]  1.278292   \n",
       "\n",
       "             BF10  power  \n",
       "T-test  5.791e+18    1.0  "
      ]
     },
     "execution_count": 53,
     "metadata": {},
     "output_type": "execute_result"
    }
   ],
   "source": [
    "# run correlation, fetching r per subject and feature:\n",
    "cor_params_vivid_young = ratings_correlations(younger_part_df, ['total'], \"vividness\")\n",
    "\n",
    "# fisher z transform before stats\n",
    "cor_params_vivid_young[\"z_vividness\"] = np.arctanh(cor_params_vivid_young.total.astype('float'))\n",
    "\n",
    "# one-sample t-test\n",
    "pg.ttest(cor_params_vivid_young.z_vividness, 0)"
   ]
  },
  {
   "cell_type": "code",
   "execution_count": 54,
   "metadata": {},
   "outputs": [
    {
     "data": {
      "text/html": [
       "<div>\n",
       "<style scoped>\n",
       "    .dataframe tbody tr th:only-of-type {\n",
       "        vertical-align: middle;\n",
       "    }\n",
       "\n",
       "    .dataframe tbody tr th {\n",
       "        vertical-align: top;\n",
       "    }\n",
       "\n",
       "    .dataframe thead th {\n",
       "        text-align: right;\n",
       "    }\n",
       "</style>\n",
       "<table border=\"1\" class=\"dataframe\">\n",
       "  <thead>\n",
       "    <tr style=\"text-align: right;\">\n",
       "      <th></th>\n",
       "      <th>z_vividness</th>\n",
       "    </tr>\n",
       "  </thead>\n",
       "  <tbody>\n",
       "    <tr>\n",
       "      <th>Mean</th>\n",
       "      <td>0.463489</td>\n",
       "    </tr>\n",
       "    <tr>\n",
       "      <th>SE</th>\n",
       "      <td>0.037006</td>\n",
       "    </tr>\n",
       "  </tbody>\n",
       "</table>\n",
       "</div>"
      ],
      "text/plain": [
       "      z_vividness\n",
       "Mean     0.463489\n",
       "SE       0.037006"
      ]
     },
     "execution_count": 54,
     "metadata": {},
     "output_type": "execute_result"
    }
   ],
   "source": [
    "# group average young\n",
    "pd.DataFrame(cor_params_vivid_young.agg(Mean=('z_vividness', 'mean'),\n",
    "                             SE=('z_vividness', 'sem')))"
   ]
  },
  {
   "cell_type": "markdown",
   "metadata": {},
   "source": [
    "**Is the relationship between vividness and total memory attributes remembered different between the two age groups?**"
   ]
  },
  {
   "cell_type": "code",
   "execution_count": 55,
   "metadata": {},
   "outputs": [
    {
     "data": {
      "text/html": [
       "<div>\n",
       "<style scoped>\n",
       "    .dataframe tbody tr th:only-of-type {\n",
       "        vertical-align: middle;\n",
       "    }\n",
       "\n",
       "    .dataframe tbody tr th {\n",
       "        vertical-align: top;\n",
       "    }\n",
       "\n",
       "    .dataframe thead th {\n",
       "        text-align: right;\n",
       "    }\n",
       "</style>\n",
       "<table border=\"1\" class=\"dataframe\">\n",
       "  <thead>\n",
       "    <tr style=\"text-align: right;\">\n",
       "      <th></th>\n",
       "      <th>T</th>\n",
       "      <th>dof</th>\n",
       "      <th>alternative</th>\n",
       "      <th>p-val</th>\n",
       "      <th>CI95%</th>\n",
       "      <th>cohen-d</th>\n",
       "      <th>BF10</th>\n",
       "      <th>power</th>\n",
       "    </tr>\n",
       "  </thead>\n",
       "  <tbody>\n",
       "    <tr>\n",
       "      <th>T-test</th>\n",
       "      <td>-0.95579</td>\n",
       "      <td>190.995201</td>\n",
       "      <td>two-sided</td>\n",
       "      <td>0.340386</td>\n",
       "      <td>[-0.15, 0.05]</td>\n",
       "      <td>0.137589</td>\n",
       "      <td>0.24</td>\n",
       "      <td>0.158277</td>\n",
       "    </tr>\n",
       "  </tbody>\n",
       "</table>\n",
       "</div>"
      ],
      "text/plain": [
       "              T         dof alternative     p-val          CI95%   cohen-d  \\\n",
       "T-test -0.95579  190.995201   two-sided  0.340386  [-0.15, 0.05]  0.137589   \n",
       "\n",
       "        BF10     power  \n",
       "T-test  0.24  0.158277  "
      ]
     },
     "execution_count": 55,
     "metadata": {},
     "output_type": "execute_result"
    }
   ],
   "source": [
    "# two-sample t-test\n",
    "pg.ttest(cor_params_vivid_young.z_vividness, cor_params_vivid_older.z_vividness)"
   ]
  },
  {
   "cell_type": "markdown",
   "metadata": {},
   "source": [
    "### 2.3.2 Confidence"
   ]
  },
  {
   "cell_type": "markdown",
   "metadata": {},
   "source": [
    "#### Older adults"
   ]
  },
  {
   "cell_type": "code",
   "execution_count": 56,
   "metadata": {},
   "outputs": [
    {
     "data": {
      "text/html": [
       "<div>\n",
       "<style scoped>\n",
       "    .dataframe tbody tr th:only-of-type {\n",
       "        vertical-align: middle;\n",
       "    }\n",
       "\n",
       "    .dataframe tbody tr th {\n",
       "        vertical-align: top;\n",
       "    }\n",
       "\n",
       "    .dataframe thead th {\n",
       "        text-align: right;\n",
       "    }\n",
       "</style>\n",
       "<table border=\"1\" class=\"dataframe\">\n",
       "  <thead>\n",
       "    <tr style=\"text-align: right;\">\n",
       "      <th></th>\n",
       "      <th>T</th>\n",
       "      <th>dof</th>\n",
       "      <th>alternative</th>\n",
       "      <th>p-val</th>\n",
       "      <th>CI95%</th>\n",
       "      <th>cohen-d</th>\n",
       "      <th>BF10</th>\n",
       "      <th>power</th>\n",
       "    </tr>\n",
       "  </thead>\n",
       "  <tbody>\n",
       "    <tr>\n",
       "      <th>T-test</th>\n",
       "      <td>14.827968</td>\n",
       "      <td>96</td>\n",
       "      <td>two-sided</td>\n",
       "      <td>1.442571e-26</td>\n",
       "      <td>[0.48, 0.62]</td>\n",
       "      <td>1.505552</td>\n",
       "      <td>2.559e+23</td>\n",
       "      <td>1.0</td>\n",
       "    </tr>\n",
       "  </tbody>\n",
       "</table>\n",
       "</div>"
      ],
      "text/plain": [
       "                T  dof alternative         p-val         CI95%   cohen-d  \\\n",
       "T-test  14.827968   96   two-sided  1.442571e-26  [0.48, 0.62]  1.505552   \n",
       "\n",
       "             BF10  power  \n",
       "T-test  2.559e+23    1.0  "
      ]
     },
     "execution_count": 56,
     "metadata": {},
     "output_type": "execute_result"
    }
   ],
   "source": [
    "# run correlation, fetching r per subject and feature:\n",
    "cor_params_conf_older = ratings_correlations(older_part_df, ['total'], \"confidence\")\n",
    "\n",
    "# fisher z transform before stats\n",
    "cor_params_conf_older[\"z_confidence\"] = np.arctanh(cor_params_conf_older.total.astype('float'))\n",
    "\n",
    "# one-sample t-test\n",
    "pg.ttest(cor_params_conf_older.z_confidence, 0)"
   ]
  },
  {
   "cell_type": "code",
   "execution_count": 57,
   "metadata": {},
   "outputs": [
    {
     "data": {
      "text/html": [
       "<div>\n",
       "<style scoped>\n",
       "    .dataframe tbody tr th:only-of-type {\n",
       "        vertical-align: middle;\n",
       "    }\n",
       "\n",
       "    .dataframe tbody tr th {\n",
       "        vertical-align: top;\n",
       "    }\n",
       "\n",
       "    .dataframe thead th {\n",
       "        text-align: right;\n",
       "    }\n",
       "</style>\n",
       "<table border=\"1\" class=\"dataframe\">\n",
       "  <thead>\n",
       "    <tr style=\"text-align: right;\">\n",
       "      <th></th>\n",
       "      <th>z_confidence</th>\n",
       "    </tr>\n",
       "  </thead>\n",
       "  <tbody>\n",
       "    <tr>\n",
       "      <th>Mean</th>\n",
       "      <td>0.551014</td>\n",
       "    </tr>\n",
       "    <tr>\n",
       "      <th>SE</th>\n",
       "      <td>0.037160</td>\n",
       "    </tr>\n",
       "  </tbody>\n",
       "</table>\n",
       "</div>"
      ],
      "text/plain": [
       "      z_confidence\n",
       "Mean      0.551014\n",
       "SE        0.037160"
      ]
     },
     "execution_count": 57,
     "metadata": {},
     "output_type": "execute_result"
    }
   ],
   "source": [
    "# group average older\n",
    "pd.DataFrame(cor_params_conf_older.agg(Mean=('z_confidence', 'mean'),\n",
    "                             SE=('z_confidence', 'sem')))"
   ]
  },
  {
   "cell_type": "markdown",
   "metadata": {},
   "source": [
    "#### Young adults"
   ]
  },
  {
   "cell_type": "code",
   "execution_count": 58,
   "metadata": {},
   "outputs": [
    {
     "data": {
      "text/html": [
       "<div>\n",
       "<style scoped>\n",
       "    .dataframe tbody tr th:only-of-type {\n",
       "        vertical-align: middle;\n",
       "    }\n",
       "\n",
       "    .dataframe tbody tr th {\n",
       "        vertical-align: top;\n",
       "    }\n",
       "\n",
       "    .dataframe thead th {\n",
       "        text-align: right;\n",
       "    }\n",
       "</style>\n",
       "<table border=\"1\" class=\"dataframe\">\n",
       "  <thead>\n",
       "    <tr style=\"text-align: right;\">\n",
       "      <th></th>\n",
       "      <th>T</th>\n",
       "      <th>dof</th>\n",
       "      <th>alternative</th>\n",
       "      <th>p-val</th>\n",
       "      <th>CI95%</th>\n",
       "      <th>cohen-d</th>\n",
       "      <th>BF10</th>\n",
       "      <th>power</th>\n",
       "    </tr>\n",
       "  </thead>\n",
       "  <tbody>\n",
       "    <tr>\n",
       "      <th>T-test</th>\n",
       "      <td>16.739449</td>\n",
       "      <td>95</td>\n",
       "      <td>two-sided</td>\n",
       "      <td>4.342196e-30</td>\n",
       "      <td>[0.48, 0.61]</td>\n",
       "      <td>1.708463</td>\n",
       "      <td>7.358e+26</td>\n",
       "      <td>1.0</td>\n",
       "    </tr>\n",
       "  </tbody>\n",
       "</table>\n",
       "</div>"
      ],
      "text/plain": [
       "                T  dof alternative         p-val         CI95%   cohen-d  \\\n",
       "T-test  16.739449   95   two-sided  4.342196e-30  [0.48, 0.61]  1.708463   \n",
       "\n",
       "             BF10  power  \n",
       "T-test  7.358e+26    1.0  "
      ]
     },
     "execution_count": 58,
     "metadata": {},
     "output_type": "execute_result"
    }
   ],
   "source": [
    "# run correlation, fetching r per subject and feature:\n",
    "cor_params_conf_young = ratings_correlations(younger_part_df, ['total'], \"confidence\")\n",
    "\n",
    "# fisher z transform before stats\n",
    "cor_params_conf_young[\"z_confidence\"] = np.arctanh(cor_params_conf_young.total.astype('float'))\n",
    "\n",
    "# one-sample t-test\n",
    "pg.ttest(cor_params_conf_young.z_confidence, 0)"
   ]
  },
  {
   "cell_type": "code",
   "execution_count": 59,
   "metadata": {},
   "outputs": [
    {
     "data": {
      "text/html": [
       "<div>\n",
       "<style scoped>\n",
       "    .dataframe tbody tr th:only-of-type {\n",
       "        vertical-align: middle;\n",
       "    }\n",
       "\n",
       "    .dataframe tbody tr th {\n",
       "        vertical-align: top;\n",
       "    }\n",
       "\n",
       "    .dataframe thead th {\n",
       "        text-align: right;\n",
       "    }\n",
       "</style>\n",
       "<table border=\"1\" class=\"dataframe\">\n",
       "  <thead>\n",
       "    <tr style=\"text-align: right;\">\n",
       "      <th></th>\n",
       "      <th>z_confidence</th>\n",
       "    </tr>\n",
       "  </thead>\n",
       "  <tbody>\n",
       "    <tr>\n",
       "      <th>Mean</th>\n",
       "      <td>0.549063</td>\n",
       "    </tr>\n",
       "    <tr>\n",
       "      <th>SE</th>\n",
       "      <td>0.032801</td>\n",
       "    </tr>\n",
       "  </tbody>\n",
       "</table>\n",
       "</div>"
      ],
      "text/plain": [
       "      z_confidence\n",
       "Mean      0.549063\n",
       "SE        0.032801"
      ]
     },
     "execution_count": 59,
     "metadata": {},
     "output_type": "execute_result"
    }
   ],
   "source": [
    "# group average young\n",
    "pd.DataFrame(cor_params_conf_young.agg(Mean=('z_confidence', 'mean'),\n",
    "                             SE=('z_confidence', 'sem')))"
   ]
  },
  {
   "cell_type": "markdown",
   "metadata": {},
   "source": [
    "**Is the relationship between confidence and total memory attributes different between the two age groups?**"
   ]
  },
  {
   "cell_type": "code",
   "execution_count": 60,
   "metadata": {},
   "outputs": [
    {
     "data": {
      "text/html": [
       "<div>\n",
       "<style scoped>\n",
       "    .dataframe tbody tr th:only-of-type {\n",
       "        vertical-align: middle;\n",
       "    }\n",
       "\n",
       "    .dataframe tbody tr th {\n",
       "        vertical-align: top;\n",
       "    }\n",
       "\n",
       "    .dataframe thead th {\n",
       "        text-align: right;\n",
       "    }\n",
       "</style>\n",
       "<table border=\"1\" class=\"dataframe\">\n",
       "  <thead>\n",
       "    <tr style=\"text-align: right;\">\n",
       "      <th></th>\n",
       "      <th>T</th>\n",
       "      <th>dof</th>\n",
       "      <th>alternative</th>\n",
       "      <th>p-val</th>\n",
       "      <th>CI95%</th>\n",
       "      <th>cohen-d</th>\n",
       "      <th>BF10</th>\n",
       "      <th>power</th>\n",
       "    </tr>\n",
       "  </thead>\n",
       "  <tbody>\n",
       "    <tr>\n",
       "      <th>T-test</th>\n",
       "      <td>-0.039362</td>\n",
       "      <td>188.336456</td>\n",
       "      <td>two-sided</td>\n",
       "      <td>0.968644</td>\n",
       "      <td>[-0.1, 0.1]</td>\n",
       "      <td>0.005663</td>\n",
       "      <td>0.157</td>\n",
       "      <td>0.050175</td>\n",
       "    </tr>\n",
       "  </tbody>\n",
       "</table>\n",
       "</div>"
      ],
      "text/plain": [
       "               T         dof alternative     p-val        CI95%   cohen-d  \\\n",
       "T-test -0.039362  188.336456   two-sided  0.968644  [-0.1, 0.1]  0.005663   \n",
       "\n",
       "         BF10     power  \n",
       "T-test  0.157  0.050175  "
      ]
     },
     "execution_count": 60,
     "metadata": {},
     "output_type": "execute_result"
    }
   ],
   "source": [
    "# two-sample t-test\n",
    "pg.ttest(cor_params_conf_young.z_confidence, cor_params_conf_older.z_confidence)"
   ]
  },
  {
   "cell_type": "markdown",
   "metadata": {},
   "source": [
    "## 2.4 Correlation between the correlation coefficients of vividness and total number of remembered attributes, and confidence and total number of remembered attributes\n",
    "\n",
    "#### Older adults"
   ]
  },
  {
   "cell_type": "code",
   "execution_count": 61,
   "metadata": {},
   "outputs": [
    {
     "data": {
      "text/html": [
       "<div>\n",
       "<style scoped>\n",
       "    .dataframe tbody tr th:only-of-type {\n",
       "        vertical-align: middle;\n",
       "    }\n",
       "\n",
       "    .dataframe tbody tr th {\n",
       "        vertical-align: top;\n",
       "    }\n",
       "\n",
       "    .dataframe thead th {\n",
       "        text-align: right;\n",
       "    }\n",
       "</style>\n",
       "<table border=\"1\" class=\"dataframe\">\n",
       "  <thead>\n",
       "    <tr style=\"text-align: right;\">\n",
       "      <th></th>\n",
       "      <th>T</th>\n",
       "      <th>dof</th>\n",
       "      <th>alternative</th>\n",
       "      <th>p-val</th>\n",
       "      <th>CI95%</th>\n",
       "      <th>cohen-d</th>\n",
       "      <th>BF10</th>\n",
       "      <th>power</th>\n",
       "    </tr>\n",
       "  </thead>\n",
       "  <tbody>\n",
       "    <tr>\n",
       "      <th>T-test</th>\n",
       "      <td>24.20963</td>\n",
       "      <td>96</td>\n",
       "      <td>two-sided</td>\n",
       "      <td>1.164160e-42</td>\n",
       "      <td>[1.25, 1.47]</td>\n",
       "      <td>2.458115</td>\n",
       "      <td>1.776e+39</td>\n",
       "      <td>1.0</td>\n",
       "    </tr>\n",
       "  </tbody>\n",
       "</table>\n",
       "</div>"
      ],
      "text/plain": [
       "               T  dof alternative         p-val         CI95%   cohen-d  \\\n",
       "T-test  24.20963   96   two-sided  1.164160e-42  [1.25, 1.47]  2.458115   \n",
       "\n",
       "             BF10  power  \n",
       "T-test  1.776e+39    1.0  "
      ]
     },
     "execution_count": 61,
     "metadata": {},
     "output_type": "execute_result"
    }
   ],
   "source": [
    "cor_params_conf_viv_older = pd.DataFrame(index=older_part_df['participant'].unique(),\n",
    "                        columns=['vivid_conf_corr'])\n",
    "for p in older_part_df['participant'].unique():\n",
    "    sub_data = older_part_df[older_part_df['participant'] == p]\n",
    "\n",
    "    # correlate with vividness\n",
    "    sub_cors = sub_data[['vividness','confidence']].corr(method=\"spearman\").loc['vividness','confidence'].astype('float')\n",
    "    cor_params_conf_viv_older.loc[p,['vivid_conf_corr']] = sub_cors\n",
    "cor_params_conf_viv_older.reset_index()\n",
    "\n",
    "# fisher z transform before stats\n",
    "cor_params_conf_viv_older[\"vivid_conf_corr_z\"] = np.arctanh(cor_params_conf_viv_older.vivid_conf_corr.astype('float'))\n",
    "\n",
    "# one-sample t-test\n",
    "pg.ttest(cor_params_conf_viv_older.vivid_conf_corr_z, 0)"
   ]
  },
  {
   "cell_type": "markdown",
   "metadata": {},
   "source": [
    "#### Young adults"
   ]
  },
  {
   "cell_type": "code",
   "execution_count": 62,
   "metadata": {},
   "outputs": [
    {
     "data": {
      "text/html": [
       "<div>\n",
       "<style scoped>\n",
       "    .dataframe tbody tr th:only-of-type {\n",
       "        vertical-align: middle;\n",
       "    }\n",
       "\n",
       "    .dataframe tbody tr th {\n",
       "        vertical-align: top;\n",
       "    }\n",
       "\n",
       "    .dataframe thead th {\n",
       "        text-align: right;\n",
       "    }\n",
       "</style>\n",
       "<table border=\"1\" class=\"dataframe\">\n",
       "  <thead>\n",
       "    <tr style=\"text-align: right;\">\n",
       "      <th></th>\n",
       "      <th>T</th>\n",
       "      <th>dof</th>\n",
       "      <th>alternative</th>\n",
       "      <th>p-val</th>\n",
       "      <th>CI95%</th>\n",
       "      <th>cohen-d</th>\n",
       "      <th>BF10</th>\n",
       "      <th>power</th>\n",
       "    </tr>\n",
       "  </thead>\n",
       "  <tbody>\n",
       "    <tr>\n",
       "      <th>T-test</th>\n",
       "      <td>16.873967</td>\n",
       "      <td>95</td>\n",
       "      <td>two-sided</td>\n",
       "      <td>2.453278e-30</td>\n",
       "      <td>[0.99, 1.25]</td>\n",
       "      <td>1.722192</td>\n",
       "      <td>1.29e+27</td>\n",
       "      <td>1.0</td>\n",
       "    </tr>\n",
       "  </tbody>\n",
       "</table>\n",
       "</div>"
      ],
      "text/plain": [
       "                T  dof alternative         p-val         CI95%   cohen-d  \\\n",
       "T-test  16.873967   95   two-sided  2.453278e-30  [0.99, 1.25]  1.722192   \n",
       "\n",
       "            BF10  power  \n",
       "T-test  1.29e+27    1.0  "
      ]
     },
     "execution_count": 62,
     "metadata": {},
     "output_type": "execute_result"
    }
   ],
   "source": [
    "cor_params_conf_viv_younger = pd.DataFrame(index=younger_part_df['participant'].unique(),\n",
    "                        columns=['vivid_conf_corr'])\n",
    "for p in younger_part_df['participant'].unique():\n",
    "    sub_data = younger_part_df[younger_part_df['participant'] == p]\n",
    "\n",
    "    # correlate with vividness\n",
    "    sub_cors = sub_data[['vividness','confidence']].corr(method=\"spearman\").loc['vividness','confidence'].astype('float')\n",
    "    cor_params_conf_viv_younger.loc[p,['vivid_conf_corr']] = sub_cors\n",
    "cor_params_conf_viv_younger.reset_index()\n",
    "\n",
    "# fisher z transform before stats\n",
    "cor_params_conf_viv_younger[\"vivid_conf_corr_z\"] = np.arctanh(cor_params_conf_viv_younger.vivid_conf_corr.astype('float'))\n",
    "\n",
    "# one-sample t-test\n",
    "pg.ttest(cor_params_conf_viv_younger.vivid_conf_corr_z, 0)"
   ]
  },
  {
   "cell_type": "markdown",
   "metadata": {},
   "source": [
    "**Is the correlation between confidence and vividness different between the two age groups?**"
   ]
  },
  {
   "cell_type": "code",
   "execution_count": 63,
   "metadata": {},
   "outputs": [
    {
     "data": {
      "text/html": [
       "<div>\n",
       "<style scoped>\n",
       "    .dataframe tbody tr th:only-of-type {\n",
       "        vertical-align: middle;\n",
       "    }\n",
       "\n",
       "    .dataframe tbody tr th {\n",
       "        vertical-align: top;\n",
       "    }\n",
       "\n",
       "    .dataframe thead th {\n",
       "        text-align: right;\n",
       "    }\n",
       "</style>\n",
       "<table border=\"1\" class=\"dataframe\">\n",
       "  <thead>\n",
       "    <tr style=\"text-align: right;\">\n",
       "      <th></th>\n",
       "      <th>T</th>\n",
       "      <th>dof</th>\n",
       "      <th>alternative</th>\n",
       "      <th>p-val</th>\n",
       "      <th>CI95%</th>\n",
       "      <th>cohen-d</th>\n",
       "      <th>BF10</th>\n",
       "      <th>power</th>\n",
       "    </tr>\n",
       "  </thead>\n",
       "  <tbody>\n",
       "    <tr>\n",
       "      <th>T-test</th>\n",
       "      <td>-2.714491</td>\n",
       "      <td>185.413129</td>\n",
       "      <td>two-sided</td>\n",
       "      <td>0.007264</td>\n",
       "      <td>[-0.41, -0.06]</td>\n",
       "      <td>0.391125</td>\n",
       "      <td>4.688</td>\n",
       "      <td>0.771307</td>\n",
       "    </tr>\n",
       "  </tbody>\n",
       "</table>\n",
       "</div>"
      ],
      "text/plain": [
       "               T         dof alternative     p-val           CI95%   cohen-d  \\\n",
       "T-test -2.714491  185.413129   two-sided  0.007264  [-0.41, -0.06]  0.391125   \n",
       "\n",
       "         BF10     power  \n",
       "T-test  4.688  0.771307  "
      ]
     },
     "execution_count": 63,
     "metadata": {},
     "output_type": "execute_result"
    }
   ],
   "source": [
    "# two-sample t-test\n",
    "pg.ttest(cor_params_conf_viv_younger.vivid_conf_corr_z, cor_params_conf_viv_older.vivid_conf_corr_z)"
   ]
  },
  {
   "cell_type": "markdown",
   "metadata": {},
   "source": [
    "## 3. Content x Specificity x Age"
   ]
  },
  {
   "cell_type": "markdown",
   "metadata": {},
   "source": [
    "### 3.1 The effect of content x specificity x age on vividness ratings"
   ]
  },
  {
   "cell_type": "code",
   "execution_count": 64,
   "metadata": {},
   "outputs": [],
   "source": [
    "cor_params_gist = ratings_correlations(memory_data, [\"gist_object\",\"gist_person\",\"gist_place\"], \"vividness\").melt(id_vars=[\"index\", \"age\"], var_name=\"content\", value_name='gist')\n",
    "cor_params_gist['content'].replace({\"gist_object\":\"object\", \"gist_person\":\"person\", \"gist_place\":\"place\"}, inplace=True)"
   ]
  },
  {
   "cell_type": "code",
   "execution_count": 65,
   "metadata": {},
   "outputs": [],
   "source": [
    "# calculate detail-specific correlations (where gist = 1)\n",
    "cor_detail_object = ratings_correlations(memory_data[memory_data.gist_object == 1], [\"detail_object\"], \"vividness\")\n",
    "cor_detail_person = ratings_correlations(memory_data[memory_data.gist_person == 1], [\"detail_person\"], \"vividness\")\n",
    "cor_detail_place = ratings_correlations(memory_data[memory_data.gist_place == 1], [\"detail_place\"], \"vividness\")\n",
    "\n",
    "# merge detail to single df:\n",
    "cor_params_detail = cor_detail_object.merge(cor_detail_person)\n",
    "cor_params_detail = cor_params_detail.merge(cor_detail_place).melt(id_vars=[\"index\", \"age\"], var_name=\"content\", value_name=\"detail\")\n",
    "cor_params_detail['content'].replace({\"detail_object\":\"object\", \"detail_person\":\"person\", \"detail_place\":\"place\"}, inplace=True)"
   ]
  },
  {
   "cell_type": "code",
   "execution_count": 66,
   "metadata": {},
   "outputs": [
    {
     "data": {
      "text/html": [
       "<div>\n",
       "<style scoped>\n",
       "    .dataframe tbody tr th:only-of-type {\n",
       "        vertical-align: middle;\n",
       "    }\n",
       "\n",
       "    .dataframe tbody tr th {\n",
       "        vertical-align: top;\n",
       "    }\n",
       "\n",
       "    .dataframe thead th {\n",
       "        text-align: right;\n",
       "    }\n",
       "</style>\n",
       "<table border=\"1\" class=\"dataframe\">\n",
       "  <thead>\n",
       "    <tr style=\"text-align: right;\">\n",
       "      <th></th>\n",
       "      <th>index</th>\n",
       "      <th>age</th>\n",
       "      <th>content</th>\n",
       "      <th>specificity</th>\n",
       "      <th>r</th>\n",
       "    </tr>\n",
       "  </thead>\n",
       "  <tbody>\n",
       "    <tr>\n",
       "      <th>0</th>\n",
       "      <td>100</td>\n",
       "      <td>0</td>\n",
       "      <td>object</td>\n",
       "      <td>detail</td>\n",
       "      <td>-0.145526</td>\n",
       "    </tr>\n",
       "    <tr>\n",
       "      <th>1</th>\n",
       "      <td>101</td>\n",
       "      <td>0</td>\n",
       "      <td>object</td>\n",
       "      <td>detail</td>\n",
       "      <td>0.382971</td>\n",
       "    </tr>\n",
       "    <tr>\n",
       "      <th>2</th>\n",
       "      <td>102</td>\n",
       "      <td>0</td>\n",
       "      <td>object</td>\n",
       "      <td>detail</td>\n",
       "      <td>0.19605</td>\n",
       "    </tr>\n",
       "    <tr>\n",
       "      <th>3</th>\n",
       "      <td>103</td>\n",
       "      <td>0</td>\n",
       "      <td>object</td>\n",
       "      <td>detail</td>\n",
       "      <td>-0.24216</td>\n",
       "    </tr>\n",
       "    <tr>\n",
       "      <th>4</th>\n",
       "      <td>104</td>\n",
       "      <td>0</td>\n",
       "      <td>object</td>\n",
       "      <td>detail</td>\n",
       "      <td>0.328564</td>\n",
       "    </tr>\n",
       "  </tbody>\n",
       "</table>\n",
       "</div>"
      ],
      "text/plain": [
       "   index age content specificity         r\n",
       "0    100   0  object      detail -0.145526\n",
       "1    101   0  object      detail  0.382971\n",
       "2    102   0  object      detail   0.19605\n",
       "3    103   0  object      detail  -0.24216\n",
       "4    104   0  object      detail  0.328564"
      ]
     },
     "execution_count": 66,
     "metadata": {},
     "output_type": "execute_result"
    }
   ],
   "source": [
    "# merge gist and detail to single df:\n",
    "cor_params = cor_params_detail.merge(cor_params_gist, how=\"outer\")\n",
    "cor_params = cor_params.melt(id_vars=[\"index\",\"age\",\"content\"], var_name=\"specificity\", value_name=\"r\")\n",
    "cor_params.head()"
   ]
  },
  {
   "cell_type": "code",
   "execution_count": 67,
   "metadata": {},
   "outputs": [
    {
     "data": {
      "text/html": [
       "<div>\n",
       "<style scoped>\n",
       "    .dataframe tbody tr th:only-of-type {\n",
       "        vertical-align: middle;\n",
       "    }\n",
       "\n",
       "    .dataframe tbody tr th {\n",
       "        vertical-align: top;\n",
       "    }\n",
       "\n",
       "    .dataframe thead th {\n",
       "        text-align: right;\n",
       "    }\n",
       "</style>\n",
       "<table border=\"1\" class=\"dataframe\">\n",
       "  <thead>\n",
       "    <tr style=\"text-align: right;\">\n",
       "      <th></th>\n",
       "      <th>index</th>\n",
       "      <th>age</th>\n",
       "      <th>content</th>\n",
       "      <th>specificity</th>\n",
       "      <th>r</th>\n",
       "      <th>z_vividness</th>\n",
       "    </tr>\n",
       "  </thead>\n",
       "  <tbody>\n",
       "    <tr>\n",
       "      <th>0</th>\n",
       "      <td>100</td>\n",
       "      <td>0</td>\n",
       "      <td>object</td>\n",
       "      <td>detail</td>\n",
       "      <td>-0.145526</td>\n",
       "      <td>-0.146567</td>\n",
       "    </tr>\n",
       "    <tr>\n",
       "      <th>1</th>\n",
       "      <td>101</td>\n",
       "      <td>0</td>\n",
       "      <td>object</td>\n",
       "      <td>detail</td>\n",
       "      <td>0.382971</td>\n",
       "      <td>0.403536</td>\n",
       "    </tr>\n",
       "    <tr>\n",
       "      <th>2</th>\n",
       "      <td>102</td>\n",
       "      <td>0</td>\n",
       "      <td>object</td>\n",
       "      <td>detail</td>\n",
       "      <td>0.19605</td>\n",
       "      <td>0.198622</td>\n",
       "    </tr>\n",
       "    <tr>\n",
       "      <th>3</th>\n",
       "      <td>103</td>\n",
       "      <td>0</td>\n",
       "      <td>object</td>\n",
       "      <td>detail</td>\n",
       "      <td>-0.24216</td>\n",
       "      <td>-0.247067</td>\n",
       "    </tr>\n",
       "    <tr>\n",
       "      <th>4</th>\n",
       "      <td>104</td>\n",
       "      <td>0</td>\n",
       "      <td>object</td>\n",
       "      <td>detail</td>\n",
       "      <td>0.328564</td>\n",
       "      <td>0.341218</td>\n",
       "    </tr>\n",
       "  </tbody>\n",
       "</table>\n",
       "</div>"
      ],
      "text/plain": [
       "   index age content specificity         r  z_vividness\n",
       "0    100   0  object      detail -0.145526    -0.146567\n",
       "1    101   0  object      detail  0.382971     0.403536\n",
       "2    102   0  object      detail   0.19605     0.198622\n",
       "3    103   0  object      detail  -0.24216    -0.247067\n",
       "4    104   0  object      detail  0.328564     0.341218"
      ]
     },
     "execution_count": 67,
     "metadata": {},
     "output_type": "execute_result"
    }
   ],
   "source": [
    "# fisher z transform before stats\n",
    "cor_params[\"z_vividness\"] = np.arctanh(cor_params.r.astype('float'))\n",
    "cor_params.head()"
   ]
  },
  {
   "cell_type": "markdown",
   "metadata": {},
   "source": [
    "**Group averages by age, content and specificity**"
   ]
  },
  {
   "cell_type": "code",
   "execution_count": 68,
   "metadata": {},
   "outputs": [
    {
     "data": {
      "text/html": [
       "<div>\n",
       "<style scoped>\n",
       "    .dataframe tbody tr th:only-of-type {\n",
       "        vertical-align: middle;\n",
       "    }\n",
       "\n",
       "    .dataframe tbody tr th {\n",
       "        vertical-align: top;\n",
       "    }\n",
       "\n",
       "    .dataframe thead th {\n",
       "        text-align: right;\n",
       "    }\n",
       "</style>\n",
       "<table border=\"1\" class=\"dataframe\">\n",
       "  <thead>\n",
       "    <tr style=\"text-align: right;\">\n",
       "      <th></th>\n",
       "      <th></th>\n",
       "      <th></th>\n",
       "      <th>Mean</th>\n",
       "      <th>SE</th>\n",
       "    </tr>\n",
       "    <tr>\n",
       "      <th>age</th>\n",
       "      <th>content</th>\n",
       "      <th>specificity</th>\n",
       "      <th></th>\n",
       "      <th></th>\n",
       "    </tr>\n",
       "  </thead>\n",
       "  <tbody>\n",
       "    <tr>\n",
       "      <th rowspan=\"6\" valign=\"top\">0</th>\n",
       "      <th rowspan=\"2\" valign=\"top\">object</th>\n",
       "      <th>detail</th>\n",
       "      <td>0.066518</td>\n",
       "      <td>0.028815</td>\n",
       "    </tr>\n",
       "    <tr>\n",
       "      <th>gist</th>\n",
       "      <td>0.308331</td>\n",
       "      <td>0.029675</td>\n",
       "    </tr>\n",
       "    <tr>\n",
       "      <th rowspan=\"2\" valign=\"top\">person</th>\n",
       "      <th>detail</th>\n",
       "      <td>0.026304</td>\n",
       "      <td>0.036819</td>\n",
       "    </tr>\n",
       "    <tr>\n",
       "      <th>gist</th>\n",
       "      <td>0.333779</td>\n",
       "      <td>0.030919</td>\n",
       "    </tr>\n",
       "    <tr>\n",
       "      <th rowspan=\"2\" valign=\"top\">place</th>\n",
       "      <th>detail</th>\n",
       "      <td>0.079061</td>\n",
       "      <td>0.027775</td>\n",
       "    </tr>\n",
       "    <tr>\n",
       "      <th>gist</th>\n",
       "      <td>0.326042</td>\n",
       "      <td>0.029290</td>\n",
       "    </tr>\n",
       "    <tr>\n",
       "      <th rowspan=\"6\" valign=\"top\">1</th>\n",
       "      <th rowspan=\"2\" valign=\"top\">object</th>\n",
       "      <th>detail</th>\n",
       "      <td>0.060529</td>\n",
       "      <td>0.028366</td>\n",
       "    </tr>\n",
       "    <tr>\n",
       "      <th>gist</th>\n",
       "      <td>0.346456</td>\n",
       "      <td>0.028329</td>\n",
       "    </tr>\n",
       "    <tr>\n",
       "      <th rowspan=\"2\" valign=\"top\">person</th>\n",
       "      <th>detail</th>\n",
       "      <td>0.011371</td>\n",
       "      <td>0.035886</td>\n",
       "    </tr>\n",
       "    <tr>\n",
       "      <th>gist</th>\n",
       "      <td>0.358071</td>\n",
       "      <td>0.026781</td>\n",
       "    </tr>\n",
       "    <tr>\n",
       "      <th rowspan=\"2\" valign=\"top\">place</th>\n",
       "      <th>detail</th>\n",
       "      <td>0.005193</td>\n",
       "      <td>0.035711</td>\n",
       "    </tr>\n",
       "    <tr>\n",
       "      <th>gist</th>\n",
       "      <td>0.372831</td>\n",
       "      <td>0.032616</td>\n",
       "    </tr>\n",
       "  </tbody>\n",
       "</table>\n",
       "</div>"
      ],
      "text/plain": [
       "                             Mean        SE\n",
       "age content specificity                    \n",
       "0   object  detail       0.066518  0.028815\n",
       "            gist         0.308331  0.029675\n",
       "    person  detail       0.026304  0.036819\n",
       "            gist         0.333779  0.030919\n",
       "    place   detail       0.079061  0.027775\n",
       "            gist         0.326042  0.029290\n",
       "1   object  detail       0.060529  0.028366\n",
       "            gist         0.346456  0.028329\n",
       "    person  detail       0.011371  0.035886\n",
       "            gist         0.358071  0.026781\n",
       "    place   detail       0.005193  0.035711\n",
       "            gist         0.372831  0.032616"
      ]
     },
     "execution_count": 68,
     "metadata": {},
     "output_type": "execute_result"
    }
   ],
   "source": [
    "# group averages by age, content and specificity:\n",
    "pd.DataFrame(cor_params.groupby(['age','content','specificity']).agg(Mean=('z_vividness', 'mean'),\n",
    "                                                               SE=('z_vividness', 'sem')))"
   ]
  },
  {
   "cell_type": "code",
   "execution_count": 69,
   "metadata": {},
   "outputs": [],
   "source": [
    "older_cor_params, younger_cor_params = [x for _, x in cor_params.groupby(cor_params['age'] == 0)]"
   ]
  },
  {
   "cell_type": "markdown",
   "metadata": {},
   "source": [
    "#### Older adults"
   ]
  },
  {
   "cell_type": "code",
   "execution_count": 70,
   "metadata": {},
   "outputs": [
    {
     "data": {
      "text/html": [
       "<div>\n",
       "<style scoped>\n",
       "    .dataframe tbody tr th:only-of-type {\n",
       "        vertical-align: middle;\n",
       "    }\n",
       "\n",
       "    .dataframe tbody tr th {\n",
       "        vertical-align: top;\n",
       "    }\n",
       "\n",
       "    .dataframe thead th {\n",
       "        text-align: right;\n",
       "    }\n",
       "</style>\n",
       "<table border=\"1\" class=\"dataframe\">\n",
       "  <thead>\n",
       "    <tr style=\"text-align: right;\">\n",
       "      <th></th>\n",
       "      <th>T</th>\n",
       "      <th>dof</th>\n",
       "      <th>alternative</th>\n",
       "      <th>p-val</th>\n",
       "      <th>CI95%</th>\n",
       "      <th>cohen-d</th>\n",
       "      <th>BF10</th>\n",
       "      <th>power</th>\n",
       "      <th>content</th>\n",
       "      <th>specificity</th>\n",
       "      <th>p-bonf</th>\n",
       "    </tr>\n",
       "  </thead>\n",
       "  <tbody>\n",
       "    <tr>\n",
       "      <th>T-test</th>\n",
       "      <td>2.1338</td>\n",
       "      <td>96</td>\n",
       "      <td>two-sided</td>\n",
       "      <td>0.0354</td>\n",
       "      <td>[0.0, 0.12]</td>\n",
       "      <td>0.2167</td>\n",
       "      <td>0.978</td>\n",
       "      <td>0.5606</td>\n",
       "      <td>object</td>\n",
       "      <td>detail</td>\n",
       "      <td>0.2124</td>\n",
       "    </tr>\n",
       "    <tr>\n",
       "      <th>T-test</th>\n",
       "      <td>12.2297</td>\n",
       "      <td>96</td>\n",
       "      <td>two-sided</td>\n",
       "      <td>0.0000</td>\n",
       "      <td>[0.29, 0.4]</td>\n",
       "      <td>1.2417</td>\n",
       "      <td>1.726e+18</td>\n",
       "      <td>1.0000</td>\n",
       "      <td>object</td>\n",
       "      <td>gist</td>\n",
       "      <td>0.0000</td>\n",
       "    </tr>\n",
       "    <tr>\n",
       "      <th>T-test</th>\n",
       "      <td>0.3169</td>\n",
       "      <td>96</td>\n",
       "      <td>two-sided</td>\n",
       "      <td>0.7520</td>\n",
       "      <td>[-0.06, 0.08]</td>\n",
       "      <td>0.0322</td>\n",
       "      <td>0.118</td>\n",
       "      <td>0.0613</td>\n",
       "      <td>person</td>\n",
       "      <td>detail</td>\n",
       "      <td>1.0000</td>\n",
       "    </tr>\n",
       "    <tr>\n",
       "      <th>T-test</th>\n",
       "      <td>13.3705</td>\n",
       "      <td>96</td>\n",
       "      <td>two-sided</td>\n",
       "      <td>0.0000</td>\n",
       "      <td>[0.3, 0.41]</td>\n",
       "      <td>1.3576</td>\n",
       "      <td>3.502e+20</td>\n",
       "      <td>1.0000</td>\n",
       "      <td>person</td>\n",
       "      <td>gist</td>\n",
       "      <td>0.0000</td>\n",
       "    </tr>\n",
       "    <tr>\n",
       "      <th>T-test</th>\n",
       "      <td>0.1454</td>\n",
       "      <td>96</td>\n",
       "      <td>two-sided</td>\n",
       "      <td>0.8847</td>\n",
       "      <td>[-0.07, 0.08]</td>\n",
       "      <td>0.0148</td>\n",
       "      <td>0.114</td>\n",
       "      <td>0.0524</td>\n",
       "      <td>place</td>\n",
       "      <td>detail</td>\n",
       "      <td>1.0000</td>\n",
       "    </tr>\n",
       "    <tr>\n",
       "      <th>T-test</th>\n",
       "      <td>11.4310</td>\n",
       "      <td>96</td>\n",
       "      <td>two-sided</td>\n",
       "      <td>0.0000</td>\n",
       "      <td>[0.31, 0.44]</td>\n",
       "      <td>1.1606</td>\n",
       "      <td>3.926e+16</td>\n",
       "      <td>1.0000</td>\n",
       "      <td>place</td>\n",
       "      <td>gist</td>\n",
       "      <td>0.0000</td>\n",
       "    </tr>\n",
       "  </tbody>\n",
       "</table>\n",
       "</div>"
      ],
      "text/plain": [
       "              T  dof alternative   p-val          CI95%  cohen-d       BF10  \\\n",
       "T-test   2.1338   96   two-sided  0.0354    [0.0, 0.12]   0.2167      0.978   \n",
       "T-test  12.2297   96   two-sided  0.0000    [0.29, 0.4]   1.2417  1.726e+18   \n",
       "T-test   0.3169   96   two-sided  0.7520  [-0.06, 0.08]   0.0322      0.118   \n",
       "T-test  13.3705   96   two-sided  0.0000    [0.3, 0.41]   1.3576  3.502e+20   \n",
       "T-test   0.1454   96   two-sided  0.8847  [-0.07, 0.08]   0.0148      0.114   \n",
       "T-test  11.4310   96   two-sided  0.0000   [0.31, 0.44]   1.1606  3.926e+16   \n",
       "\n",
       "         power content specificity  p-bonf  \n",
       "T-test  0.5606  object      detail  0.2124  \n",
       "T-test  1.0000  object        gist  0.0000  \n",
       "T-test  0.0613  person      detail  1.0000  \n",
       "T-test  1.0000  person        gist  0.0000  \n",
       "T-test  0.0524   place      detail  1.0000  \n",
       "T-test  1.0000   place        gist  0.0000  "
      ]
     },
     "execution_count": 70,
     "metadata": {},
     "output_type": "execute_result"
    }
   ],
   "source": [
    "# one-sample t-tests:\n",
    "tests = content_specificity_t_test(older_cor_params, \"z_vividness\")\n",
    "tests"
   ]
  },
  {
   "cell_type": "markdown",
   "metadata": {},
   "source": [
    "#### Younger adults"
   ]
  },
  {
   "cell_type": "code",
   "execution_count": 71,
   "metadata": {},
   "outputs": [
    {
     "data": {
      "text/html": [
       "<div>\n",
       "<style scoped>\n",
       "    .dataframe tbody tr th:only-of-type {\n",
       "        vertical-align: middle;\n",
       "    }\n",
       "\n",
       "    .dataframe tbody tr th {\n",
       "        vertical-align: top;\n",
       "    }\n",
       "\n",
       "    .dataframe thead th {\n",
       "        text-align: right;\n",
       "    }\n",
       "</style>\n",
       "<table border=\"1\" class=\"dataframe\">\n",
       "  <thead>\n",
       "    <tr style=\"text-align: right;\">\n",
       "      <th></th>\n",
       "      <th>T</th>\n",
       "      <th>dof</th>\n",
       "      <th>alternative</th>\n",
       "      <th>p-val</th>\n",
       "      <th>CI95%</th>\n",
       "      <th>cohen-d</th>\n",
       "      <th>BF10</th>\n",
       "      <th>power</th>\n",
       "      <th>content</th>\n",
       "      <th>specificity</th>\n",
       "      <th>p-bonf</th>\n",
       "    </tr>\n",
       "  </thead>\n",
       "  <tbody>\n",
       "    <tr>\n",
       "      <th>T-test</th>\n",
       "      <td>2.3085</td>\n",
       "      <td>95</td>\n",
       "      <td>two-sided</td>\n",
       "      <td>0.0231</td>\n",
       "      <td>[0.01, 0.12]</td>\n",
       "      <td>0.2356</td>\n",
       "      <td>1.406</td>\n",
       "      <td>0.6275</td>\n",
       "      <td>object</td>\n",
       "      <td>detail</td>\n",
       "      <td>0.1386</td>\n",
       "    </tr>\n",
       "    <tr>\n",
       "      <th>T-test</th>\n",
       "      <td>10.3904</td>\n",
       "      <td>95</td>\n",
       "      <td>two-sided</td>\n",
       "      <td>0.0000</td>\n",
       "      <td>[0.25, 0.37]</td>\n",
       "      <td>1.0605</td>\n",
       "      <td>2.402e+14</td>\n",
       "      <td>1.0000</td>\n",
       "      <td>object</td>\n",
       "      <td>gist</td>\n",
       "      <td>0.0000</td>\n",
       "    </tr>\n",
       "    <tr>\n",
       "      <th>T-test</th>\n",
       "      <td>0.7144</td>\n",
       "      <td>95</td>\n",
       "      <td>two-sided</td>\n",
       "      <td>0.4767</td>\n",
       "      <td>[-0.05, 0.1]</td>\n",
       "      <td>0.0729</td>\n",
       "      <td>0.145</td>\n",
       "      <td>0.1090</td>\n",
       "      <td>person</td>\n",
       "      <td>detail</td>\n",
       "      <td>1.0000</td>\n",
       "    </tr>\n",
       "    <tr>\n",
       "      <th>T-test</th>\n",
       "      <td>10.7952</td>\n",
       "      <td>95</td>\n",
       "      <td>two-sided</td>\n",
       "      <td>0.0000</td>\n",
       "      <td>[0.27, 0.4]</td>\n",
       "      <td>1.1018</td>\n",
       "      <td>1.66e+15</td>\n",
       "      <td>1.0000</td>\n",
       "      <td>person</td>\n",
       "      <td>gist</td>\n",
       "      <td>0.0000</td>\n",
       "    </tr>\n",
       "    <tr>\n",
       "      <th>T-test</th>\n",
       "      <td>2.8465</td>\n",
       "      <td>95</td>\n",
       "      <td>two-sided</td>\n",
       "      <td>0.0054</td>\n",
       "      <td>[0.02, 0.13]</td>\n",
       "      <td>0.2905</td>\n",
       "      <td>4.965</td>\n",
       "      <td>0.8044</td>\n",
       "      <td>place</td>\n",
       "      <td>detail</td>\n",
       "      <td>0.0324</td>\n",
       "    </tr>\n",
       "    <tr>\n",
       "      <th>T-test</th>\n",
       "      <td>11.1316</td>\n",
       "      <td>95</td>\n",
       "      <td>two-sided</td>\n",
       "      <td>0.0000</td>\n",
       "      <td>[0.27, 0.38]</td>\n",
       "      <td>1.1361</td>\n",
       "      <td>8.236e+15</td>\n",
       "      <td>1.0000</td>\n",
       "      <td>place</td>\n",
       "      <td>gist</td>\n",
       "      <td>0.0000</td>\n",
       "    </tr>\n",
       "  </tbody>\n",
       "</table>\n",
       "</div>"
      ],
      "text/plain": [
       "              T  dof alternative   p-val         CI95%  cohen-d       BF10  \\\n",
       "T-test   2.3085   95   two-sided  0.0231  [0.01, 0.12]   0.2356      1.406   \n",
       "T-test  10.3904   95   two-sided  0.0000  [0.25, 0.37]   1.0605  2.402e+14   \n",
       "T-test   0.7144   95   two-sided  0.4767  [-0.05, 0.1]   0.0729      0.145   \n",
       "T-test  10.7952   95   two-sided  0.0000   [0.27, 0.4]   1.1018   1.66e+15   \n",
       "T-test   2.8465   95   two-sided  0.0054  [0.02, 0.13]   0.2905      4.965   \n",
       "T-test  11.1316   95   two-sided  0.0000  [0.27, 0.38]   1.1361  8.236e+15   \n",
       "\n",
       "         power content specificity  p-bonf  \n",
       "T-test  0.6275  object      detail  0.1386  \n",
       "T-test  1.0000  object        gist  0.0000  \n",
       "T-test  0.1090  person      detail  1.0000  \n",
       "T-test  1.0000  person        gist  0.0000  \n",
       "T-test  0.8044   place      detail  0.0324  \n",
       "T-test  1.0000   place        gist  0.0000  "
      ]
     },
     "execution_count": 71,
     "metadata": {},
     "output_type": "execute_result"
    }
   ],
   "source": [
    "tests = content_specificity_t_test(younger_cor_params, \"z_vividness\")\n",
    "tests"
   ]
  },
  {
   "cell_type": "markdown",
   "metadata": {},
   "source": [
    "**Given that younger adults demonstrate a significant correlation between vividness ratings and detail place memory performance and older adults do not, is there a significant difference between the age groups on this measure?**"
   ]
  },
  {
   "cell_type": "code",
   "execution_count": 72,
   "metadata": {},
   "outputs": [],
   "source": [
    "older_detail_place = older_cor_params.loc[(older_cor_params['specificity'] == 'detail') & (older_cor_params['content'] == 'place')]\n",
    "young_detail_place = younger_cor_params.loc[(younger_cor_params['specificity'] == 'detail') & (younger_cor_params['content'] == 'place')]"
   ]
  },
  {
   "cell_type": "code",
   "execution_count": 73,
   "metadata": {},
   "outputs": [
    {
     "data": {
      "text/html": [
       "<div>\n",
       "<style scoped>\n",
       "    .dataframe tbody tr th:only-of-type {\n",
       "        vertical-align: middle;\n",
       "    }\n",
       "\n",
       "    .dataframe tbody tr th {\n",
       "        vertical-align: top;\n",
       "    }\n",
       "\n",
       "    .dataframe thead th {\n",
       "        text-align: right;\n",
       "    }\n",
       "</style>\n",
       "<table border=\"1\" class=\"dataframe\">\n",
       "  <thead>\n",
       "    <tr style=\"text-align: right;\">\n",
       "      <th></th>\n",
       "      <th>T</th>\n",
       "      <th>dof</th>\n",
       "      <th>alternative</th>\n",
       "      <th>p-val</th>\n",
       "      <th>CI95%</th>\n",
       "      <th>cohen-d</th>\n",
       "      <th>BF10</th>\n",
       "      <th>power</th>\n",
       "    </tr>\n",
       "  </thead>\n",
       "  <tbody>\n",
       "    <tr>\n",
       "      <th>T-test</th>\n",
       "      <td>1.632773</td>\n",
       "      <td>180.521991</td>\n",
       "      <td>two-sided</td>\n",
       "      <td>0.10426</td>\n",
       "      <td>[-0.02, 0.16]</td>\n",
       "      <td>0.234755</td>\n",
       "      <td>0.541</td>\n",
       "      <td>0.368032</td>\n",
       "    </tr>\n",
       "  </tbody>\n",
       "</table>\n",
       "</div>"
      ],
      "text/plain": [
       "               T         dof alternative    p-val          CI95%   cohen-d  \\\n",
       "T-test  1.632773  180.521991   two-sided  0.10426  [-0.02, 0.16]  0.234755   \n",
       "\n",
       "         BF10     power  \n",
       "T-test  0.541  0.368032  "
      ]
     },
     "execution_count": 73,
     "metadata": {},
     "output_type": "execute_result"
    }
   ],
   "source": [
    "pg.ttest(young_detail_place['z_vividness'], older_detail_place['z_vividness'])"
   ]
  },
  {
   "cell_type": "code",
   "execution_count": null,
   "metadata": {},
   "outputs": [],
   "source": []
  },
  {
   "cell_type": "markdown",
   "metadata": {},
   "source": [
    "### 3.2 The effect of content x specificity x age on confidence ratings"
   ]
  },
  {
   "cell_type": "code",
   "execution_count": 74,
   "metadata": {},
   "outputs": [],
   "source": [
    "cor_params_gist_conf = ratings_correlations(memory_data, [\"gist_object\",\"gist_person\",\"gist_place\"], \"confidence\").melt(id_vars=[\"index\", \"age\"], var_name=\"content\", value_name='gist')\n",
    "cor_params_gist_conf['content'].replace({\"gist_object\":\"object\", \"gist_person\":\"person\", \"gist_place\":\"place\"}, inplace=True)"
   ]
  },
  {
   "cell_type": "code",
   "execution_count": null,
   "metadata": {},
   "outputs": [],
   "source": [
    "# calculate detail-specific correlations (where gist = 1)\n",
    "cor_detail_object_conf = ratings_correlations(memory_data[memory_data.gist_object == 1], [\"detail_object\"], \"confidence\")\n",
    "cor_detail_person_conf = ratings_correlations(memory_data[memory_data.gist_person == 1], [\"detail_person\"], \"confidence\")\n",
    "cor_detail_place_conf = ratings_correlations(memory_data[memory_data.gist_place == 1], [\"detail_place\"], \"confidence\")\n",
    "\n",
    "# merge detail to single df:\n",
    "cor_params_detail_conf = cor_detail_object_conf.merge(cor_detail_person_conf)\n",
    "cor_params_detail_conf = cor_params_detail_conf.merge(cor_detail_place_conf).melt(id_vars=[\"index\", \"age\"], var_name=\"content\", value_name=\"detail\")\n",
    "cor_params_detail_conf['content'].replace({\"detail_object\":\"object\", \"detail_person\":\"person\", \"detail_place\":\"place\"}, inplace=True)"
   ]
  },
  {
   "cell_type": "code",
   "execution_count": null,
   "metadata": {},
   "outputs": [],
   "source": [
    "# merge gist and detail to single df:\n",
    "cor_params_conf = cor_params_detail_conf.merge(cor_params_gist_conf, how=\"outer\")\n",
    "cor_params_conf = cor_params_conf.melt(id_vars=[\"index\",\"age\",\"content\"], var_name=\"specificity\", value_name=\"r\")\n",
    "cor_params_conf"
   ]
  },
  {
   "cell_type": "code",
   "execution_count": null,
   "metadata": {},
   "outputs": [],
   "source": [
    "# fisher z transform before stats\n",
    "cor_params_conf[\"z_confidence\"] = np.arctanh(cor_params_conf.r.astype('float'))\n",
    "cor_params_conf.head()"
   ]
  },
  {
   "cell_type": "markdown",
   "metadata": {},
   "source": [
    "**Group averages by age, content and specificity**"
   ]
  },
  {
   "cell_type": "code",
   "execution_count": null,
   "metadata": {},
   "outputs": [],
   "source": [
    "# group averages by age, content and specificity:\n",
    "pd.DataFrame(cor_params_conf.groupby(['age','content','specificity']).agg(Mean=('z_confidence', 'mean'),\n",
    "                                                               SE=('z_confidence', 'sem')))"
   ]
  },
  {
   "cell_type": "code",
   "execution_count": null,
   "metadata": {},
   "outputs": [],
   "source": [
    "older_cor_params, younger_cor_params = [x for _, x in cor_params_conf.groupby(cor_params['age'] == 0)]"
   ]
  },
  {
   "cell_type": "markdown",
   "metadata": {},
   "source": [
    "#### Older adults"
   ]
  },
  {
   "cell_type": "code",
   "execution_count": null,
   "metadata": {},
   "outputs": [],
   "source": [
    "tests = content_specificity_t_test(older_cor_params, \"z_confidence\")\n",
    "tests"
   ]
  },
  {
   "cell_type": "markdown",
   "metadata": {},
   "source": [
    "#### Young adults"
   ]
  },
  {
   "cell_type": "code",
   "execution_count": null,
   "metadata": {},
   "outputs": [],
   "source": [
    "tests = content_specificity_t_test(younger_cor_params, \"z_confidence\")\n",
    "tests"
   ]
  },
  {
   "cell_type": "markdown",
   "metadata": {},
   "source": [
    "**Merging vividness and confidence correlation datasets, and then splitting them by age for the ease of plotting**"
   ]
  },
  {
   "cell_type": "code",
   "execution_count": null,
   "metadata": {},
   "outputs": [],
   "source": [
    "cor_params= cor_params.rename(columns={'index': 'participant', 'r': 'r_vividness'})\n",
    "cor_params_conf = cor_params_conf.rename(columns={'index': 'participant', 'r': 'r_confidence'})\n",
    "cor_params_merged = cor_params_conf.merge(cor_params, on=['participant', 'age', 'content', 'specificity'])\n",
    "older_part_cor, younger_part_cor = [x for _, x in cor_params_merged.groupby(cor_params_merged['age'] == 0)]"
   ]
  },
  {
   "cell_type": "code",
   "execution_count": null,
   "metadata": {},
   "outputs": [],
   "source": [
    "# rearranging data for plotting\n",
    "cor_params_viv_younger = younger_part_cor.copy()\n",
    "cor_params_viv_younger = cor_params_viv_younger.pivot(index='participant', columns=['specificity','content'], values='r_vividness')\n",
    "cor_params_viv_younger.columns = cor_params_viv_younger.columns.map('_'.join)\n",
    "cor_params_viv_younger = cor_params_viv_younger[memory_measures].melt()\n",
    "\n",
    "cor_params_viv_older = older_part_cor.copy()\n",
    "cor_params_viv_older = cor_params_viv_older.pivot(index='participant', columns=['specificity','content'], values='r_vividness')\n",
    "cor_params_viv_older.columns = cor_params_viv_older.columns.map('_'.join)\n",
    "cor_params_viv_older = cor_params_viv_older[memory_measures].melt()\n",
    "\n",
    "cor_params_conf_younger = younger_part_cor.copy()\n",
    "cor_params_conf_younger = cor_params_conf_younger.pivot(index='participant', columns=['specificity','content'], values='r_confidence')\n",
    "cor_params_conf_younger.columns = cor_params_conf_younger.columns.map('_'.join)\n",
    "cor_params_conf_younger = cor_params_conf_younger[memory_measures].melt()\n",
    "cor_params_conf_younger\n",
    "\n",
    "cor_params_conf_older = older_part_cor.copy()\n",
    "cor_params_conf_older = cor_params_conf_older.pivot(index='participant', columns=['specificity','content'], values='r_confidence')\n",
    "cor_params_conf_older.columns = cor_params_conf_older.columns.map('_'.join)\n",
    "cor_params_conf_older = cor_params_conf_older[memory_measures].melt()\n",
    "cor_params_conf_older"
   ]
  },
  {
   "cell_type": "code",
   "execution_count": null,
   "metadata": {},
   "outputs": [],
   "source": [
    "pal = sns.color_palette(\"colorblind\")\n",
    "colors = pal.as_hex()[:3]\n",
    "colors.reverse()"
   ]
  },
  {
   "cell_type": "code",
   "execution_count": null,
   "metadata": {},
   "outputs": [],
   "source": [
    "# plotting younger adults descriptive data:\n",
    "fig, axes = plt.subplots(2,2, figsize=(11,7),\n",
    "                         gridspec_kw={\n",
    "                               'width_ratios': [1, 1],\n",
    "                               'wspace': 0.5,\n",
    "                               'hspace': 0.5})\n",
    "\n",
    "fig.suptitle('Subjective ratings and memory performance correlations', fontsize=20, y =1.04)\n",
    "\n",
    "plt.axes(axes[0,0])\n",
    "sns.barplot(data=cor_params_viv_younger, y='variable', x='value',\n",
    "            palette=sns.color_palette(colors + colors),\n",
    "            alpha=.6, dodge=True,\n",
    "            errcolor=\"k\", errwidth=2, capsize=.2)\n",
    "sns.stripplot(data=cor_params_viv_younger, y='variable', x='value',\n",
    "              palette=sns.color_palette(colors + colors),\n",
    "              dodge=True, size=4, zorder=0, alpha=.8, jitter=.15)\n",
    "\n",
    "# statistical annotation\n",
    "plt.text(.8, 0.5, \"*\", ha='center', va='bottom', color=\"k\",\n",
    "         fontsize=22, fontweight='bold')\n",
    "plt.text(.8, 1.5, \"*\", ha='center', va='bottom', color=\"k\",\n",
    "         fontsize=22, fontweight='bold')\n",
    "plt.text(.8, 2.5, \"*\", ha='center', va='bottom', color=\"k\",\n",
    "         fontsize=22, fontweight='bold')\n",
    "plt.text(.8, 5.5, \"*\", ha='center', va='bottom', color=\"k\",\n",
    "         fontsize=22, fontweight='bold')\n",
    "\n",
    "plt.xlabel('r', fontsize=18)\n",
    "plt.xticks(fontsize=12)\n",
    "plt.axvline(0, color='k')\n",
    "plt.yticks(fontsize=16)\n",
    "plt.ylabel('')\n",
    "plt.xlim([-.75, .9])\n",
    "plt.title('Young adults ~ Vividness', fontsize=20, y=1.05)\n",
    "\n",
    "\n",
    "plt.axes(axes[1,0])\n",
    "\n",
    "sns.barplot(data=cor_params_viv_older, y='variable', x='value',\n",
    "            palette=sns.color_palette(colors + colors),\n",
    "            alpha=.6, dodge=True,\n",
    "            errcolor=\"k\", errwidth=2, capsize=.2)\n",
    "sns.stripplot(data=cor_params_viv_older, y='variable', x='value',\n",
    "              palette=sns.color_palette(colors + colors),\n",
    "              dodge=True, size=4, zorder=0, alpha=.8, jitter=.15)\n",
    "\n",
    "# statistical annotation\n",
    "plt.text(.8, 0.5, \"*\", ha='center', va='bottom', color=\"k\",\n",
    "         fontsize=22, fontweight='bold')\n",
    "plt.text(.8, 1.5, \"*\", ha='center', va='bottom', color=\"k\",\n",
    "         fontsize=22, fontweight='bold')\n",
    "plt.text(.8, 2.5, \"*\", ha='center', va='bottom', color=\"k\",\n",
    "         fontsize=22, fontweight='bold')\n",
    "\n",
    "plt.xlabel('r', fontsize=18)\n",
    "plt.xticks(fontsize=12)\n",
    "plt.axvline(0, color='k')\n",
    "plt.yticks(fontsize=16)\n",
    "plt.ylabel('')\n",
    "plt.xlim([-.75, .9])\n",
    "plt.title('Older adults ~ Vividness', fontsize=22, y=1.0)\n",
    "\n",
    "\n",
    "plt.axes(axes[0,1])\n",
    "sns.barplot(data=cor_params_conf_younger, y='variable', x='value',\n",
    "            palette=sns.color_palette(colors + colors),\n",
    "            alpha=.6, dodge=True,\n",
    "            errcolor=\"k\", errwidth=2, capsize=.2)\n",
    "sns.stripplot(data=cor_params_conf_younger, y='variable', x='value',\n",
    "              palette=sns.color_palette(colors + colors),\n",
    "              dodge=True, size=4, zorder=0, alpha=.8, jitter=.15)\n",
    "\n",
    "# statistical annotation\n",
    "plt.text(.8, 0.5, \"*\", ha='center', va='bottom', color=\"k\",\n",
    "         fontsize=22, fontweight='bold')\n",
    "plt.text(.8, 1.5, \"*\", ha='center', va='bottom', color=\"k\",\n",
    "         fontsize=22, fontweight='bold')\n",
    "plt.text(.8, 2.5, \"*\", ha='center', va='bottom', color=\"k\",\n",
    "         fontsize=22, fontweight='bold')\n",
    "plt.text(.8, 3.5, \"*\", ha='center', va='bottom', color=\"k\",\n",
    "         fontsize=22, fontweight='bold')\n",
    "plt.text(.8, 5.5, \"*\", ha='center', va='bottom', color=\"k\",\n",
    "         fontsize=22, fontweight='bold')\n",
    "\n",
    "plt.xlabel('r', fontsize=18)\n",
    "plt.xticks(fontsize=12)\n",
    "plt.axvline(0, color='k')\n",
    "plt.yticks(fontsize=16)\n",
    "plt.ylabel('')\n",
    "plt.xlim([-.75, .9])\n",
    "plt.title('Young adults ~ Confidence', fontsize=22, y=1.05)\n",
    "\n",
    "\n",
    "plt.axes(axes[1,1])\n",
    "\n",
    "sns.barplot(data=cor_params_conf_older, y='variable', x='value',\n",
    "            palette=sns.color_palette(colors + colors),\n",
    "            alpha=.6, dodge=True,\n",
    "            errcolor=\"k\", errwidth=2, capsize=.2)\n",
    "sns.stripplot(data=cor_params_conf_older, y='variable', x='value',\n",
    "              palette=sns.color_palette(colors + colors),\n",
    "              dodge=True, size=4, zorder=0, alpha=.8, jitter=.15)\n",
    "\n",
    "# statistical annotation\n",
    "plt.text(.8, 0.5, \"*\", ha='center', va='bottom', color=\"k\",\n",
    "         fontsize=22, fontweight='bold')\n",
    "plt.text(.8, 1.5, \"*\", ha='center', va='bottom', color=\"k\",\n",
    "         fontsize=22, fontweight='bold')\n",
    "plt.text(.8, 2.5, \"*\", ha='center', va='bottom', color=\"k\",\n",
    "         fontsize=22, fontweight='bold')\n",
    "\n",
    "plt.xlabel('r', fontsize=18)\n",
    "plt.xticks(fontsize=12)\n",
    "plt.axvline(0, color='k')\n",
    "plt.yticks(fontsize=16)\n",
    "plt.ylabel('')\n",
    "plt.xlim([-.75, .9])\n",
    "plt.title('Older adults ~ Confidence', fontsize=22, y=1.05)\n",
    "\n",
    "\n",
    "# save\n",
    "plt.savefig(\".\\\\plots\\\\vivid_conf_trialwise_correlations.png\", bbox_inches = 'tight')\n",
    "plt.show()"
   ]
  },
  {
   "cell_type": "markdown",
   "metadata": {},
   "source": [
    "## 4. Mixed-design 3x2x2 ANOVA"
   ]
  },
  {
   "cell_type": "markdown",
   "metadata": {},
   "source": [
    "**Performed in R due to limited Python packages supporting performing mixed design 3-way ANOVAs**"
   ]
  },
  {
   "cell_type": "code",
   "execution_count": null,
   "metadata": {},
   "outputs": [],
   "source": [
    "cor_params_merged.to_csv('.\\data\\correlation_coefficients_R.csv', index=False)"
   ]
  },
  {
   "cell_type": "markdown",
   "metadata": {},
   "source": [
    "## 5. Predictive Model\n"
   ]
  },
  {
   "cell_type": "markdown",
   "metadata": {},
   "source": [
    "Following Cooper Ritchey (2022), we are using linear regression, with cross-validation -- data from across all subjects (so 24 events * Nsubs).\n",
    "Starting with all the features, we will iterate and at each iteration remove the predictor with the lowest R-squared value until we obtain the one which accounts for the most variance in the data.\n",
    "\n",
    "**The model returned is that with the highest *out-of-sample* R-squared value**"
   ]
  },
  {
   "cell_type": "markdown",
   "metadata": {},
   "source": [
    "### 5.1 Vividness"
   ]
  },
  {
   "cell_type": "markdown",
   "metadata": {},
   "source": [
    "#### Older adults"
   ]
  },
  {
   "cell_type": "code",
   "execution_count": null,
   "metadata": {},
   "outputs": [],
   "source": [
    "older_part_df, younger_part_df = [x for _, x in memory_data.groupby(memory_data['age'] == 0)]"
   ]
  },
  {
   "cell_type": "code",
   "execution_count": null,
   "metadata": {},
   "outputs": [],
   "source": [
    "y = older_part_df['vividness']\n",
    "X = older_part_df[memory_measures]"
   ]
  },
  {
   "cell_type": "code",
   "execution_count": null,
   "metadata": {},
   "outputs": [],
   "source": [
    "model_weights_older_vividness = regressions(X, y, '')"
   ]
  },
  {
   "cell_type": "code",
   "execution_count": null,
   "metadata": {},
   "outputs": [],
   "source": [
    "g = sns.violinplot(data=model_weights_older_vividness.melt(),\n",
    "                   y='variable', x='value',\n",
    "                   palette=sns.color_palette(colors + colors), width=0.95)\n",
    "\n",
    "for violin in g.collections:\n",
    "    violin.set_alpha(0.8)\n",
    "    violin.set_edgecolor('k')\n",
    "plt.xlabel('Beta', fontsize=18)\n",
    "plt.axvline(0, color='k')\n",
    "plt.yticks(fontsize=16)\n",
    "plt.ylabel('')\n",
    "plt.xticks(fontsize=14)\n",
    "plt.suptitle('Full vividness model feature weights', fontsize=18, y=1.0, fontweight=\"bold\")\n",
    "plt.title('Older adults', fontsize=18, y=0.999)\n",
    "plt.savefig(\"plots/vividness_linear_older.png\", bbox_inches = 'tight')"
   ]
  },
  {
   "cell_type": "markdown",
   "metadata": {},
   "source": [
    "#### Young adults"
   ]
  },
  {
   "cell_type": "code",
   "execution_count": null,
   "metadata": {},
   "outputs": [],
   "source": [
    "y = younger_part_df['vividness']\n",
    "X = younger_part_df[memory_measures]"
   ]
  },
  {
   "cell_type": "code",
   "execution_count": null,
   "metadata": {},
   "outputs": [],
   "source": [
    "model_weights_young_vividness = regressions(X, y, '')"
   ]
  },
  {
   "cell_type": "code",
   "execution_count": null,
   "metadata": {},
   "outputs": [],
   "source": [
    "g = sns.violinplot(data=model_weights_young_vividness.melt(),\n",
    "                   y='variable', x='value',\n",
    "                   palette=sns.color_palette(colors + colors), width=0.95)\n",
    "\n",
    "for violin in g.collections:\n",
    "    violin.set_alpha(0.8)\n",
    "    violin.set_edgecolor('k')\n",
    "plt.xlabel('Beta', fontsize=18)\n",
    "plt.axvline(0, color='k')\n",
    "plt.yticks(fontsize=16)\n",
    "plt.ylabel('')\n",
    "plt.xticks(fontsize=14)\n",
    "plt.suptitle('Full vividness model feature weights', fontsize=18, y=1.0, fontweight=\"bold\")\n",
    "plt.title('Young adults', fontsize=18, y=0.999)\n",
    "plt.savefig(\"plots/vividness_linear_young.png\", bbox_inches = 'tight')"
   ]
  },
  {
   "cell_type": "markdown",
   "metadata": {},
   "source": [
    "### 5.2 Confidence"
   ]
  },
  {
   "cell_type": "markdown",
   "metadata": {},
   "source": [
    "#### Older adults"
   ]
  },
  {
   "cell_type": "code",
   "execution_count": null,
   "metadata": {},
   "outputs": [],
   "source": [
    "y = older_part_df['confidence']\n",
    "X = older_part_df[memory_measures]"
   ]
  },
  {
   "cell_type": "code",
   "execution_count": null,
   "metadata": {},
   "outputs": [],
   "source": [
    "model_weights_older_confidence = regressions(X, y, '')"
   ]
  },
  {
   "cell_type": "code",
   "execution_count": null,
   "metadata": {},
   "outputs": [],
   "source": [
    "g = sns.violinplot(data=model_weights_older_confidence.melt(),\n",
    "                   y='variable', x='value',\n",
    "                   palette=sns.color_palette(colors + colors), width=0.95)\n",
    "\n",
    "for violin in g.collections:\n",
    "    violin.set_alpha(0.8)\n",
    "    violin.set_edgecolor('k')\n",
    "plt.xlabel('Beta', fontsize=18)\n",
    "plt.axvline(0, color='k')\n",
    "plt.yticks(fontsize=16)\n",
    "plt.ylabel('')\n",
    "plt.xticks(fontsize=14)\n",
    "plt.suptitle('Full confidence model feature weights', fontsize=18, y=1.0, fontweight=\"bold\")\n",
    "plt.title('Older adults', fontsize=18, y=0.999)\n",
    "plt.savefig(\"plots/confidence_linear_older.png\", bbox_inches = 'tight')"
   ]
  },
  {
   "cell_type": "markdown",
   "metadata": {},
   "source": [
    "#### Younger adults"
   ]
  },
  {
   "cell_type": "code",
   "execution_count": null,
   "metadata": {},
   "outputs": [],
   "source": [
    "y = younger_part_df['confidence']\n",
    "X = younger_part_df[memory_measures]"
   ]
  },
  {
   "cell_type": "code",
   "execution_count": null,
   "metadata": {},
   "outputs": [],
   "source": [
    "model_weights_young_confidence = regressions(X, y, '')"
   ]
  },
  {
   "cell_type": "code",
   "execution_count": null,
   "metadata": {},
   "outputs": [],
   "source": [
    "g = sns.violinplot(data=model_weights_young_confidence.melt(),\n",
    "                   y='variable', x='value',\n",
    "                   palette=sns.color_palette(colors + colors), width=0.95)\n",
    "\n",
    "for violin in g.collections:\n",
    "    violin.set_alpha(0.8)\n",
    "    violin.set_edgecolor('k')\n",
    "plt.xlabel('Beta', fontsize=18)\n",
    "plt.axvline(0, color='k')\n",
    "plt.yticks(fontsize=16)\n",
    "plt.ylabel('')\n",
    "plt.xticks(fontsize=14)\n",
    "plt.suptitle('Full confidence model feature weights', fontsize=18, y=1.0, fontweight=\"bold\")\n",
    "plt.title('Young adults', fontsize=18, y=0.999)\n",
    "plt.savefig(\"plots/confidence_linear_young.png\", bbox_inches = 'tight')"
   ]
  },
  {
   "cell_type": "code",
   "execution_count": null,
   "metadata": {},
   "outputs": [],
   "source": [
    "# plotting younger adults descriptive data:\n",
    "fig, axes = plt.subplots(4,2, figsize=(11,18),\n",
    "                         gridspec_kw={\n",
    "                               'width_ratios': [1, 1],\n",
    "                               'wspace': 0.5,\n",
    "                               'hspace': 0.6})\n",
    "\n",
    "fig.suptitle('Subjective ratings and memory performance correlations', style='italic', fontsize=20, y =0.93)\n",
    "\n",
    "plt.axes(axes[0,0])\n",
    "sns.barplot(data=cor_params_viv_younger, y='variable', x='value',\n",
    "            palette=sns.color_palette(colors + colors),\n",
    "            alpha=.6, dodge=True,\n",
    "            errcolor=\"k\", errwidth=2, capsize=.2)\n",
    "sns.stripplot(data=cor_params_viv_younger, y='variable', x='value',\n",
    "              palette=sns.color_palette(colors + colors),\n",
    "              dodge=True, size=4, zorder=0, alpha=.8, jitter=.15)\n",
    "\n",
    "# statistical annotation\n",
    "plt.text(.8, 0.5, \"*\", ha='center', va='bottom', color=\"k\",\n",
    "         fontsize=22, fontweight='bold')\n",
    "plt.text(.8, 1.5, \"*\", ha='center', va='bottom', color=\"k\",\n",
    "         fontsize=22, fontweight='bold')\n",
    "plt.text(.8, 2.5, \"*\", ha='center', va='bottom', color=\"k\",\n",
    "         fontsize=22, fontweight='bold')\n",
    "plt.text(.8, 5.5, \"*\", ha='center', va='bottom', color=\"k\",\n",
    "         fontsize=22, fontweight='bold')\n",
    "\n",
    "plt.xlabel('r', fontsize=18)\n",
    "plt.xticks(fontsize=12)\n",
    "plt.axvline(0, color='k')\n",
    "plt.yticks(fontsize=16)\n",
    "plt.ylabel('')\n",
    "plt.xlim([-.75, .9])\n",
    "plt.title('Young adults ~ Vividness', fontsize=18, y=1.05)\n",
    "\n",
    "\n",
    "plt.axes(axes[1,0])\n",
    "\n",
    "sns.barplot(data=cor_params_viv_older, y='variable', x='value',\n",
    "            palette=sns.color_palette(colors + colors),\n",
    "            alpha=.6, dodge=True,\n",
    "            errcolor=\"k\", errwidth=2, capsize=.2)\n",
    "sns.stripplot(data=cor_params_viv_older, y='variable', x='value',\n",
    "              palette=sns.color_palette(colors + colors),\n",
    "              dodge=True, size=4, zorder=0, alpha=.8, jitter=.15)\n",
    "\n",
    "# statistical annotation\n",
    "plt.text(.8, 0.5, \"*\", ha='center', va='bottom', color=\"k\",\n",
    "         fontsize=22, fontweight='bold')\n",
    "plt.text(.8, 1.5, \"*\", ha='center', va='bottom', color=\"k\",\n",
    "         fontsize=22, fontweight='bold')\n",
    "plt.text(.8, 2.5, \"*\", ha='center', va='bottom', color=\"k\",\n",
    "         fontsize=22, fontweight='bold')\n",
    "\n",
    "plt.xlabel('r', fontsize=18)\n",
    "plt.xticks(fontsize=12)\n",
    "plt.axvline(0, color='k')\n",
    "plt.yticks(fontsize=16)\n",
    "plt.ylabel('')\n",
    "plt.xlim([-.75, .9])\n",
    "plt.title('Older adults ~ Vividness', fontsize=18, y=1.0)\n",
    "\n",
    "plt.axes(axes[2,0])\n",
    "\n",
    "plt.text(0.2, -1.8, \"Full predictive linear model feature weights\", style='italic', fontsize=20)\n",
    "\n",
    "g = sns.violinplot(data=model_weights_young_vividness.melt(),\n",
    "                   y='variable', x='value',\n",
    "                   palette=sns.color_palette(colors + colors))\n",
    "\n",
    "for violin in g.collections:\n",
    "    violin.set_alpha(0.8)\n",
    "    violin.set_edgecolor('k')\n",
    "plt.xlabel('Beta', fontsize=18)\n",
    "plt.axvline(0, color='k')\n",
    "plt.yticks(fontsize=16)\n",
    "plt.ylabel('')\n",
    "plt.xticks(fontsize=12)\n",
    "plt.title('Young adults ~ Vividness', fontsize=18, y=0.999)\n",
    "\n",
    "plt.axes(axes[3,0])\n",
    "\n",
    "g = sns.violinplot(data=model_weights_older_vividness.melt(),\n",
    "                   y='variable', x='value',\n",
    "                   palette=sns.color_palette(colors + colors))\n",
    "\n",
    "for violin in g.collections:\n",
    "    violin.set_alpha(0.8)\n",
    "    violin.set_edgecolor('k')\n",
    "plt.xlabel('Beta', fontsize=18)\n",
    "plt.axvline(0, color='k')\n",
    "plt.yticks(fontsize=16)\n",
    "plt.ylabel('')\n",
    "plt.xticks(fontsize=12)\n",
    "plt.title('Older adults ~ Vividness', fontsize=18, y=0.999)\n",
    "\n",
    "\n",
    "\n",
    "plt.axes(axes[0,1])\n",
    "sns.barplot(data=cor_params_conf_younger, y='variable', x='value',\n",
    "            palette=sns.color_palette(colors + colors),\n",
    "            alpha=.6, dodge=True,\n",
    "            errcolor=\"k\", errwidth=2, capsize=.2)\n",
    "sns.stripplot(data=cor_params_conf_younger, y='variable', x='value',\n",
    "              palette=sns.color_palette(colors + colors),\n",
    "              dodge=True, size=4, zorder=0, alpha=.8, jitter=.15)\n",
    "\n",
    "# statistical annotation\n",
    "plt.text(.8, 0.5, \"*\", ha='center', va='bottom', color=\"k\",\n",
    "         fontsize=22, fontweight='bold')\n",
    "plt.text(.8, 1.5, \"*\", ha='center', va='bottom', color=\"k\",\n",
    "         fontsize=22, fontweight='bold')\n",
    "plt.text(.8, 2.5, \"*\", ha='center', va='bottom', color=\"k\",\n",
    "         fontsize=22, fontweight='bold')\n",
    "plt.text(.8, 3.5, \"*\", ha='center', va='bottom', color=\"k\",\n",
    "         fontsize=22, fontweight='bold')\n",
    "plt.text(.8, 5.5, \"*\", ha='center', va='bottom', color=\"k\",\n",
    "         fontsize=22, fontweight='bold')\n",
    "\n",
    "plt.xlabel('r', fontsize=18)\n",
    "plt.xticks(fontsize=12)\n",
    "plt.axvline(0, color='k')\n",
    "plt.yticks(fontsize=16)\n",
    "plt.ylabel('')\n",
    "plt.xlim([-.75, .9])\n",
    "plt.title('Young adults ~ Confidence', fontsize=18, y=1.05)\n",
    "\n",
    "\n",
    "plt.axes(axes[1,1])\n",
    "\n",
    "sns.barplot(data=cor_params_conf_older, y='variable', x='value',\n",
    "            palette=sns.color_palette(colors + colors),\n",
    "            alpha=.6, dodge=True,\n",
    "            errcolor=\"k\", errwidth=2, capsize=.2)\n",
    "sns.stripplot(data=cor_params_conf_older, y='variable', x='value',\n",
    "              palette=sns.color_palette(colors + colors),\n",
    "              dodge=True, size=4, zorder=0, alpha=.8, jitter=.15)\n",
    "\n",
    "# statistical annotation\n",
    "plt.text(.8, 0.5, \"*\", ha='center', va='bottom', color=\"k\",\n",
    "         fontsize=22, fontweight='bold')\n",
    "plt.text(.8, 1.5, \"*\", ha='center', va='bottom', color=\"k\",\n",
    "         fontsize=22, fontweight='bold')\n",
    "plt.text(.8, 2.5, \"*\", ha='center', va='bottom', color=\"k\",\n",
    "         fontsize=22, fontweight='bold')\n",
    "\n",
    "plt.xlabel('r', fontsize=18)\n",
    "plt.xticks(fontsize=12)\n",
    "plt.axvline(0, color='k')\n",
    "plt.yticks(fontsize=16)\n",
    "plt.ylabel('')\n",
    "plt.xlim([-.75, .9])\n",
    "plt.title('Older adults ~ Confidence', fontsize=18, y=1.05)\n",
    "\n",
    "plt.axes(axes[2,1])\n",
    "\n",
    "g = sns.violinplot(data=model_weights_young_confidence.melt(),\n",
    "                   y='variable', x='value',\n",
    "                   palette=sns.color_palette(colors + colors), width=0.95)\n",
    "\n",
    "for violin in g.collections:\n",
    "    violin.set_alpha(0.8)\n",
    "    violin.set_edgecolor('k')\n",
    "plt.xlabel('Beta', fontsize=18)\n",
    "plt.axvline(0, color='k')\n",
    "plt.yticks(fontsize=16)\n",
    "plt.ylabel('')\n",
    "plt.xticks(fontsize=14)\n",
    "plt.title('Young adults ~ Confidence', fontsize=18, y=0.999)\n",
    "\n",
    "plt.axes(axes[3,1])\n",
    "\n",
    "g = sns.violinplot(data=model_weights_older_confidence.melt(),\n",
    "                   y='variable', x='value',\n",
    "                   palette=sns.color_palette(colors + colors))\n",
    "\n",
    "for violin in g.collections:\n",
    "    violin.set_alpha(0.8)\n",
    "    violin.set_edgecolor('k')\n",
    "plt.xlabel('Beta', fontsize=18)\n",
    "plt.axvline(0, color='k')\n",
    "plt.yticks(fontsize=16)\n",
    "plt.ylabel('')\n",
    "plt.xticks(fontsize=12)\n",
    "plt.title('Older adults ~ Confidence', fontsize=18, y=0.999)\n",
    "\n",
    "\n",
    "# save\n",
    "plt.savefig(\".\\\\plots\\\\vivid_conf_trialwise_correlations_and_regression.png\", bbox_inches = 'tight')\n",
    "plt.show()"
   ]
  },
  {
   "cell_type": "code",
   "execution_count": null,
   "metadata": {},
   "outputs": [],
   "source": [
    "\n",
    "# plotting younger adults descriptive data:\n",
    "fig, axes = plt.subplots(4,2, figsize=(11,18),\n",
    "                         gridspec_kw={\n",
    "                               'width_ratios': [1, 1],\n",
    "                               'wspace': 0.5,\n",
    "                               'hspace': 0.6})\n",
    "\n",
    "fig.suptitle('Subjective ratings and memory performance correlations', style='italic', fontsize=20, y =0.93)\n",
    "\n",
    "plt.axes(axes[0,0])\n",
    "sns.barplot(data=cor_params_viv_younger, y='variable', x='value',\n",
    "            palette=colors,\n",
    "            alpha=.6, dodge=True,\n",
    "            errcolor=\"k\", errwidth=2, capsize=.2)\n",
    "sns.stripplot(data=cor_params_viv_younger, y='variable', x='value',\n",
    "              palette=sns.color_palette(colors + colors),\n",
    "              dodge=True, size=4, zorder=0, alpha=.8, jitter=.15)\n",
    "\n",
    "# statistical annotation\n",
    "plt.text(.8, 0.5, \"*\", ha='center', va='bottom', color=\"k\",\n",
    "         fontsize=22, fontweight='bold')\n",
    "plt.text(.8, 1.5, \"*\", ha='center', va='bottom', color=\"k\",\n",
    "         fontsize=22, fontweight='bold')\n",
    "plt.text(.8, 2.5, \"*\", ha='center', va='bottom', color=\"k\",\n",
    "         fontsize=22, fontweight='bold')\n",
    "plt.text(.8, 5.5, \"*\", ha='center', va='bottom', color=\"k\",\n",
    "         fontsize=22, fontweight='bold')\n",
    "\n",
    "plt.xlabel('r', fontsize=18)\n",
    "plt.xticks(fontsize=12)\n",
    "plt.axvline(0, color='k')\n",
    "plt.yticks(fontsize=16)\n",
    "plt.ylabel('')\n",
    "plt.xlim([-.75, .9])\n",
    "plt.title('Young adults ~ Vividness', fontsize=18, y=1.05)\n",
    "\n",
    "\n",
    "plt.axes(axes[1,0])\n",
    "\n",
    "sns.barplot(data=cor_params_viv_older, y='variable', x='value',\n",
    "            palette=sns.color_palette(colors + colors),\n",
    "            alpha=.6, dodge=True,\n",
    "            errcolor=\"k\", errwidth=2, capsize=.2)\n",
    "sns.stripplot(data=cor_params_viv_older, y='variable', x='value',\n",
    "              palette=sns.color_palette(colors + colors),\n",
    "              dodge=True, size=4, zorder=0, alpha=.8, jitter=.15)\n",
    "\n",
    "# statistical annotation\n",
    "plt.text(.8, 0.5, \"*\", ha='center', va='bottom', color=\"k\",\n",
    "         fontsize=22, fontweight='bold')\n",
    "plt.text(.8, 1.5, \"*\", ha='center', va='bottom', color=\"k\",\n",
    "         fontsize=22, fontweight='bold')\n",
    "plt.text(.8, 2.5, \"*\", ha='center', va='bottom', color=\"k\",\n",
    "         fontsize=22, fontweight='bold')\n",
    "\n",
    "plt.xlabel('r', fontsize=18)\n",
    "plt.xticks(fontsize=12)\n",
    "plt.axvline(0, color='k')\n",
    "plt.yticks(fontsize=16)\n",
    "plt.ylabel('')\n",
    "plt.xlim([-.75, .9])\n",
    "plt.title('Older adults ~ Vividness', fontsize=18, y=1.0)\n",
    "\n",
    "plt.axes(axes[2,0])\n",
    "\n",
    "plt.text(0.2, -1.8, \"Full predictive linear model feature weights\", style='italic', fontsize=20)\n",
    "\n",
    "g = sns.violinplot(data=model_weights_young_vividness.melt(),\n",
    "                   y='variable', x='value',\n",
    "                   palette=sns.color_palette(colors + colors))\n",
    "\n",
    "for violin in g.collections:\n",
    "    violin.set_alpha(0.8)\n",
    "    violin.set_edgecolor('k')\n",
    "plt.xlabel('Beta', fontsize=18)\n",
    "plt.axvline(0, color='k')\n",
    "plt.yticks(fontsize=16)\n",
    "plt.ylabel('')\n",
    "plt.xticks(fontsize=12)\n",
    "plt.title('Young adults ~ Vividness', fontsize=18, y=0.999)\n",
    "\n",
    "plt.axes(axes[3,0])\n",
    "\n",
    "g = sns.violinplot(data=model_weights_older_vividness.melt(),\n",
    "                   y='variable', x='value',\n",
    "                   palette=sns.color_palette(colors + colors))\n",
    "\n",
    "for violin in g.collections:\n",
    "    violin.set_alpha(0.8)\n",
    "    violin.set_edgecolor('k')\n",
    "plt.xlabel('Beta', fontsize=18)\n",
    "plt.axvline(0, color='k')\n",
    "plt.yticks(fontsize=16)\n",
    "plt.ylabel('')\n",
    "plt.xticks(fontsize=12)\n",
    "plt.title('Older adults ~ Vividness', fontsize=18, y=0.999)\n",
    "\n",
    "\n",
    "\n",
    "plt.axes(axes[0,1])\n",
    "sns.barplot(data=cor_params_conf_younger, y='variable', x='value',\n",
    "            palette=sns.color_palette(colors + colors),\n",
    "            alpha=.6, dodge=True,\n",
    "            errcolor=\"k\", errwidth=2, capsize=.2)\n",
    "sns.stripplot(data=cor_params_conf_younger, y='variable', x='value',\n",
    "              palette=sns.color_palette(colors + colors),\n",
    "              dodge=True, size=4, zorder=0, alpha=.8, jitter=.15)\n",
    "\n",
    "# statistical annotation\n",
    "plt.text(.8, 0.5, \"*\", ha='center', va='bottom', color=\"k\",\n",
    "         fontsize=22, fontweight='bold')\n",
    "plt.text(.8, 1.5, \"*\", ha='center', va='bottom', color=\"k\",\n",
    "         fontsize=22, fontweight='bold')\n",
    "plt.text(.8, 2.5, \"*\", ha='center', va='bottom', color=\"k\",\n",
    "         fontsize=22, fontweight='bold')\n",
    "plt.text(.8, 3.5, \"*\", ha='center', va='bottom', color=\"k\",\n",
    "         fontsize=22, fontweight='bold')\n",
    "plt.text(.8, 5.5, \"*\", ha='center', va='bottom', color=\"k\",\n",
    "         fontsize=22, fontweight='bold')\n",
    "\n",
    "plt.xlabel('r', fontsize=18)\n",
    "plt.xticks(fontsize=12)\n",
    "plt.axvline(0, color='k')\n",
    "plt.yticks(fontsize=16)\n",
    "plt.ylabel('')\n",
    "plt.xlim([-.75, .9])\n",
    "plt.title('Young adults ~ Confidence', fontsize=18, y=1.05)\n",
    "\n",
    "\n",
    "plt.axes(axes[1,1])\n",
    "\n",
    "sns.barplot(data=cor_params_conf_older, y='variable', x='value',\n",
    "            palette=sns.color_palette(colors + colors),\n",
    "            alpha=.6, dodge=True,\n",
    "            errcolor=\"k\", errwidth=2, capsize=.2)\n",
    "sns.stripplot(data=cor_params_conf_older, y='variable', x='value',\n",
    "              palette=sns.color_palette(colors + colors),\n",
    "              dodge=True, size=4, zorder=0, alpha=.8, jitter=.15)\n",
    "\n",
    "# statistical annotation\n",
    "plt.text(.8, 0.5, \"*\", ha='center', va='bottom', color=\"k\",\n",
    "         fontsize=22, fontweight='bold')\n",
    "plt.text(.8, 1.5, \"*\", ha='center', va='bottom', color=\"k\",\n",
    "         fontsize=22, fontweight='bold')\n",
    "plt.text(.8, 2.5, \"*\", ha='center', va='bottom', color=\"k\",\n",
    "         fontsize=22, fontweight='bold')\n",
    "\n",
    "plt.xlabel('r', fontsize=18)\n",
    "plt.xticks(fontsize=12)\n",
    "plt.axvline(0, color='k')\n",
    "plt.yticks(fontsize=16)\n",
    "plt.ylabel('')\n",
    "plt.xlim([-.75, .9])\n",
    "plt.title('Older adults ~ Confidence', fontsize=18, y=1.05)\n",
    "\n",
    "plt.axes(axes[2,1])\n",
    "\n",
    "g = sns.violinplot(data=model_weights_young_confidence.melt(),\n",
    "                   y='variable', x='value',\n",
    "                   palette=sns.color_palette(colors + colors), width=0.95)\n",
    "\n",
    "for violin in g.collections:\n",
    "    violin.set_alpha(0.8)\n",
    "    violin.set_edgecolor('k')\n",
    "plt.xlabel('Beta', fontsize=18)\n",
    "plt.axvline(0, color='k')\n",
    "plt.yticks(fontsize=16)\n",
    "plt.ylabel('')\n",
    "plt.xticks(fontsize=14)\n",
    "plt.title('Young adults ~ Confidence', fontsize=18, y=0.999)\n",
    "\n",
    "plt.axes(axes[3,1])\n",
    "\n",
    "g = sns.violinplot(data=model_weights_older_confidence.melt(),\n",
    "                   y='variable', x='value',\n",
    "                   palette=sns.color_palette(colors + colors))\n",
    "\n",
    "for violin in g.collections:\n",
    "    violin.set_alpha(0.8)\n",
    "    violin.set_edgecolor('k')\n",
    "plt.xlabel('Beta', fontsize=18)\n",
    "plt.axvline(0, color='k')\n",
    "plt.yticks(fontsize=16)\n",
    "plt.ylabel('')\n",
    "plt.xticks(fontsize=12)\n",
    "plt.title('Older adults ~ Confidence', fontsize=18, y=0.999)\n",
    "\n",
    "\n",
    "# save\n",
    "plt.savefig(\".\\\\plots\\\\vivid_conf_trialwise_correlations_and_regression.jpg\", bbox_inches = 'tight')\n",
    "plt.show()"
   ]
  },
  {
   "cell_type": "code",
   "execution_count": null,
   "metadata": {},
   "outputs": [],
   "source": []
  }
 ],
 "metadata": {
  "kernelspec": {
   "display_name": "Python 3 (ipykernel)",
   "language": "python",
   "name": "python3"
  },
  "language_info": {
   "codemirror_mode": {
    "name": "ipython",
    "version": 3
   },
   "file_extension": ".py",
   "mimetype": "text/x-python",
   "name": "python",
   "nbconvert_exporter": "python",
   "pygments_lexer": "ipython3",
   "version": "3.9.13"
  }
 },
 "nbformat": 4,
 "nbformat_minor": 1
}
